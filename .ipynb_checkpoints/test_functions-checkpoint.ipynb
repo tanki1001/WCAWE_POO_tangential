{
 "cells": [
  {
   "cell_type": "code",
   "execution_count": 1,
   "id": "da2da18e-bc16-4800-baa3-6f0015b806d0",
   "metadata": {},
   "outputs": [
    {
     "name": "stdout",
     "output_type": "stream",
     "text": [
      "\u001b[H\u001b[2J"
     ]
    }
   ],
   "source": [
    "clear all"
   ]
  },
  {
   "cell_type": "code",
   "execution_count": null,
   "id": "4188f78a-9e13-429c-9fa3-9ba0f5c280bf",
   "metadata": {},
   "outputs": [],
   "source": []
  },
  {
   "cell_type": "code",
   "execution_count": 2,
   "id": "fbd9fa85-b221-4778-90da-30b1e6260909",
   "metadata": {},
   "outputs": [],
   "source": [
    "import numpy as np\n",
    "from scipy import special\n",
    "from geometries import cubic_domain\n",
    "from operators import fonction_spaces, solve_, solve_WCAWE, integral_mesure, z_f_matrices_b1p_withDiff, z_f_matrices_b2p_withDiff, basis_N_WCAWE, Zn_Fn_matrices, reduced_solution\n",
    "from postprocess import relative_errZ,import_FOM_result\n",
    "from dolfinx.fem import (form, Function, FunctionSpace, petsc)\n",
    "import petsc4py\n",
    "from petsc4py import PETSc\n",
    "import matplotlib.pyplot as plt\n",
    "import time\n",
    "from tqdm import tqdm\n"
   ]
  },
  {
   "cell_type": "code",
   "execution_count": 3,
   "id": "64bab06b-6df5-42a1-8b7d-67cfed30d571",
   "metadata": {},
   "outputs": [
    {
     "name": "stdout",
     "output_type": "stream",
     "text": [
      "seqdense\n",
      "here\n",
      "[0.-0.j 0.-0.j 2.-1.j 0.-0.j 0.-0.j 0.-0.j]\n",
      "Mat Object: 1 MPI process\n",
      "  type: seqdense\n",
      "0.0000000000000000e+00 + 0.0000000000000000e+00i 0.0000000000000000e+00 + 0.0000000000000000e+00i 0.0000000000000000e+00 + 0.0000000000000000e+00i 0.0000000000000000e+00 + 0.0000000000000000e+00i 0.0000000000000000e+00 + 0.0000000000000000e+00i 0.0000000000000000e+00 + 0.0000000000000000e+00i \n",
      "0.0000000000000000e+00 + 0.0000000000000000e+00i 0.0000000000000000e+00 + 0.0000000000000000e+00i 0.0000000000000000e+00 + 0.0000000000000000e+00i 0.0000000000000000e+00 + 0.0000000000000000e+00i 0.0000000000000000e+00 + 0.0000000000000000e+00i 0.0000000000000000e+00 + 0.0000000000000000e+00i \n",
      "0.0000000000000000e+00 + 0.0000000000000000e+00i 0.0000000000000000e+00 + 0.0000000000000000e+00i 0.0000000000000000e+00 + 0.0000000000000000e+00i 2.0000000000000000e+00 + 1.0000000000000000e+00i 1.0000000000000000e+01 + 0.0000000000000000e+00i 1.1000000000000000e+01 + 0.0000000000000000e+00i \n",
      "0.0000000000000000e+00 + 0.0000000000000000e+00i 0.0000000000000000e+00 + 0.0000000000000000e+00i 0.0000000000000000e+00 + 0.0000000000000000e+00i 0.0000000000000000e+00 + 0.0000000000000000e+00i 0.0000000000000000e+00 + 0.0000000000000000e+00i 0.0000000000000000e+00 + 0.0000000000000000e+00i \n",
      "0.0000000000000000e+00 + 0.0000000000000000e+00i 0.0000000000000000e+00 + 0.0000000000000000e+00i 0.0000000000000000e+00 + 0.0000000000000000e+00i 0.0000000000000000e+00 + 0.0000000000000000e+00i 2.0000000000000000e+01 + 0.0000000000000000e+00i 2.1000000000000000e+01 + 0.0000000000000000e+00i \n",
      "0.0000000000000000e+00 + 0.0000000000000000e+00i 0.0000000000000000e+00 + 0.0000000000000000e+00i 0.0000000000000000e+00 + 0.0000000000000000e+00i 0.0000000000000000e+00 + 0.0000000000000000e+00i 3.1000000000000000e+01 + 0.0000000000000000e+00i 3.0000000000000000e+01 + 0.0000000000000000e+00i \n",
      "None\n",
      "[[30.+0.j]]\n",
      "[[30.+0.j]]\n"
     ]
    }
   ],
   "source": [
    "N = 6\n",
    "\n",
    "# Créer la matrice Q\n",
    "Q = PETSc.Mat().create()\n",
    "Q.setSizes((N, N))\n",
    "Q.setType(\"seqdense\")\n",
    "Q.setFromOptions()\n",
    "Q.setUp()\n",
    "Q.setValue(2, 3, 2.0 + 1.j)\n",
    "Q.assemble()\n",
    "print(Q.getType())\n",
    "\n",
    "# Obtenir le vecteur associé à la colonne 3\n",
    "vec_Q = Q.getColumnVector(3)\n",
    "\n",
    "# Obtenir le vecteur conjugué\n",
    "vec_Q_conjugue = np.conj(vec_Q)\n",
    "print('here')\n",
    "print(vec_Q_conjugue)\n",
    "\n",
    "Q.setValues([2,4,5], [4,5], [[10, 11],[20, 21], [31,30]], PETSc.InsertMode.INSERT_VALUES)\n",
    "Q.assemble()\n",
    "print(Q.view())\n",
    "\n",
    "\n",
    "def sub_matrix(Q, start, end):\n",
    "    row_is = PETSc.IS().createStride(end - start, first=start, step=1)\n",
    "    col_is = PETSc.IS().createStride(end - start, first=start, step=1)\n",
    "    submatrix = Q.createSubMatrix(row_is, col_is)\n",
    "\n",
    "    row_is.destroy()\n",
    "    col_is.destroy()\n",
    "\n",
    "    submatrix = submatrix.getValues([i for i in range(end - start)], [i for i in range(end - start)])\n",
    "    return submatrix\n",
    "\n",
    "sub_ = sub_matrix(Q, 5, 6)\n",
    "print(sub_)\n",
    "\n",
    "\n",
    "def sub_matrix(Q, start, end):\n",
    "    row_is = PETSc.IS().createStride(end - start , first=start, step=1)\n",
    "    col_is = PETSc.IS().createStride(end - start , first=start, step=1)\n",
    "    submatrix = Q.createSubMatrix(row_is, col_is)\n",
    "\n",
    "    row_is.destroy()\n",
    "    col_is.destroy()\n",
    "    submatrix = submatrix.getValues([i for i in range(end - start)], [i for i in range(end - start)])\n",
    "    return submatrix\n",
    "\n",
    "sub_ = sub_matrix(Q, 5, 6)\n",
    "print(sub_)"
   ]
  },
  {
   "cell_type": "code",
   "execution_count": 4,
   "id": "6d99ce57-f8ab-4b17-846b-f224b13c1945",
   "metadata": {},
   "outputs": [
    {
     "name": "stdout",
     "output_type": "stream",
     "text": [
      "6\n",
      "Mat Object: 1 MPI process\n",
      "  type: seqdense\n",
      "0.0000000000000000e+00 + 0.0000000000000000e+00i 0.0000000000000000e+00 + 0.0000000000000000e+00i 0.0000000000000000e+00 + 0.0000000000000000e+00i \n",
      "0.0000000000000000e+00 + 0.0000000000000000e+00i 0.0000000000000000e+00 + 0.0000000000000000e+00i 0.0000000000000000e+00 + 0.0000000000000000e+00i \n",
      "2.0000000000000000e+00 + 1.0000000000000000e+00i 1.0000000000000000e+01 + 0.0000000000000000e+00i 1.1000000000000000e+01 + 0.0000000000000000e+00i \n",
      "0.0000000000000000e+00 + 0.0000000000000000e+00i 0.0000000000000000e+00 + 0.0000000000000000e+00i 0.0000000000000000e+00 + 0.0000000000000000e+00i \n",
      "0.0000000000000000e+00 + 0.0000000000000000e+00i 2.0000000000000000e+01 + 0.0000000000000000e+00i 2.1000000000000000e+01 + 0.0000000000000000e+00i \n",
      "0.0000000000000000e+00 + 0.0000000000000000e+00i 3.1000000000000000e+01 + 0.0000000000000000e+00i 3.0000000000000000e+01 + 0.0000000000000000e+00i \n",
      "(6, 3)\n",
      "(1460+0j)\n",
      "Vec Object: 1 MPI process\n",
      "  type: seq\n",
      "0.\n",
      "0.\n",
      "10.\n",
      "0.\n",
      "20.\n",
      "31.\n",
      "None\n",
      "Vec Object: 1 MPI process\n",
      "  type: seq\n",
      "0.\n",
      "0.\n",
      "20.\n",
      "0.\n",
      "40.\n",
      "62.\n",
      "None\n"
     ]
    }
   ],
   "source": [
    "print(Q.getSize()[0])\n",
    "row_is = PETSc.IS().createStride(Q.getSize()[0], first=0, step=1)\n",
    "col_is = PETSc.IS().createStride(3, first=3, step=1)\n",
    "\n",
    "Vn_i = Q.createSubMatrix(row_is, col_is)\n",
    "Vn_i.view()\n",
    "print(Vn_i.getSize())\n",
    "\n",
    "vec1 = Vn_i.getColumnVector(1)\n",
    "vec2 = Vn_i.getColumnVector(2)\n",
    "print(vec1.dot(vec2))\n",
    "print(vec1.view())\n",
    "vec1 = 2 * vec1\n",
    "print(vec1.view())"
   ]
  },
  {
   "cell_type": "code",
   "execution_count": 5,
   "id": "e8ada786-b52c-4ffe-acb1-9037e45beeb3",
   "metadata": {},
   "outputs": [
    {
     "name": "stdout",
     "output_type": "stream",
     "text": [
      "vn orthonormalisé: [0. 0. 1.]\n"
     ]
    }
   ],
   "source": [
    "import numpy as np\n",
    "\n",
    "def modified_gram_schmidt(Vn, vn):\n",
    "    # Vérifier que la base Vn est non vide\n",
    "    if len(Vn) == 0:\n",
    "        raise ValueError(\"La base Vn ne doit pas être vide.\")\n",
    "\n",
    "    # Convertir la base en une matrice numpy\n",
    "    Vn_matrix = np.array(Vn)\n",
    "\n",
    "    # Orthonormalisation du nouveau vecteur vn\n",
    "    for v in Vn_matrix:\n",
    "        vn -= np.dot(vn, v) * v\n",
    "\n",
    "    # Normalisation du vecteur vn\n",
    "    vn = vn/np.linalg.norm(vn)\n",
    "\n",
    "    return vn\n",
    "\n",
    "# Exemple d'utilisation :\n",
    "# Supposons que Vn est une liste de vecteurs et vn est le nouveau vecteur à ajouter\n",
    "Vn = [np.array([1, 0, 0]), np.array([0, 1, 0])]\n",
    "vn = np.array([1, 1, 1])\n",
    "\n",
    "# Orthonormaliser vn par rapport à la base Vn\n",
    "vn_orthonormalise = modified_gram_schmidt(Vn, vn)\n",
    "\n",
    "# Afficher le résultat\n",
    "print(\"vn orthonormalisé:\", vn_orthonormalise)\n"
   ]
  },
  {
   "cell_type": "code",
   "execution_count": 6,
   "id": "1b4d3d68-11fd-40d1-839b-79d44a315999",
   "metadata": {},
   "outputs": [
    {
     "name": "stdout",
     "output_type": "stream",
     "text": [
      "vn orthonormalisé: [-0.21559592-0.86238368j -0.44915817+0.08983163j]\n",
      "0.9999999999999998\n",
      "(3-2j)\n",
      "(0.42857142857142844+0.28571428571428564j)\n",
      "0.9999999999999999\n"
     ]
    }
   ],
   "source": [
    "import numpy as np\n",
    "\n",
    "def modified_gram_schmidt_complex(Vn, vn):\n",
    "    # Vérifier que la base Vn est non vide\n",
    "    if len(Vn) == 0:\n",
    "        raise ValueError(\"La base Vn ne doit pas être vide.\")\n",
    "\n",
    "    # Convertir la base en une matrice numpy de complexes\n",
    "    Vn_matrix = np.array(Vn, dtype=np.complex128)\n",
    "\n",
    "    # Orthonormalisation du nouveau vecteur vn\n",
    "    for v in Vn_matrix:\n",
    "        vn -= np.vdot(vn, v) * v\n",
    "\n",
    "    # Normalisation du vecteur vn\n",
    "    vn = vn/np.linalg.norm(vn)\n",
    "\n",
    "    return vn\n",
    "\n",
    "# Exemple d'utilisation :\n",
    "# Supposons que Vn est une liste de vecteurs complexes et vn est le nouveau vecteur à ajouter\n",
    "Vn = [np.array([1 + 2j, 0 + 1j]), np.array([2 + 1j, 1 - 1j])]\n",
    "vn = np.array([1 - 1j, 1 + 1j])\n",
    "\n",
    "# Orthonormaliser vn par rapport à la base Vn\n",
    "vn_orthonormalise = modified_gram_schmidt_complex(Vn, vn)\n",
    "Vn.append(vn_orthonormalise)\n",
    "\n",
    "# Afficher le résultat\n",
    "print(\"vn orthonormalisé:\", vn_orthonormalise)\n",
    "print(np.linalg.norm(vn_orthonormalise))\n",
    "print(np.vdot(Vn[1], np.conj(Vn[1])))\n",
    "i=0\n",
    "for v in Vn:\n",
    "    Vn[i] = v/np.linalg.norm(v)\n",
    "    i = i +1\n",
    "\n",
    "print(np.dot(Vn[1], Vn[1]))\n",
    "print(np.linalg.norm(Vn[1]))"
   ]
  },
  {
   "cell_type": "code",
   "execution_count": 7,
   "id": "51de467a-2bb8-40ad-ae0d-1f6e0719b499",
   "metadata": {},
   "outputs": [],
   "source": [
    "def check_ortho(Vn):\n",
    "    N = Vn.getSize()[1]\n",
    "    for i in range(N-1):\n",
    "        vec1 = Vn.getColumnVector(i)\n",
    "        vec2 = Vn.getColumnVector(i+1)\n",
    "        result = vec1.dot(vec2)\n",
    "        print(\"vec\"+str(i)+\" . vec\"+str(i+1)+\" = \"+str(result))"
   ]
  },
  {
   "cell_type": "code",
   "execution_count": 8,
   "id": "87ea5122-09bd-4517-af6d-ee35c4c7a8a6",
   "metadata": {},
   "outputs": [
    {
     "name": "stdout",
     "output_type": "stream",
     "text": [
      "Mat Object: 1 MPI process\n",
      "  type: seqdense\n",
      "1.0000000000000000e+00 + 0.0000000000000000e+00i 1.0000000000000000e+00 + 1.0000000000000000e+00i 0.0000000000000000e+00 + 0.0000000000000000e+00i \n",
      "0.0000000000000000e+00 + 1.0000000000000000e+00i 1.0000000000000000e+00 + -1.0000000000000000e+00i 0.0000000000000000e+00 + 0.0000000000000000e+00i \n",
      "0.0000000000000000e+00 + 0.0000000000000000e+00i -2.0000000000000000e+00 + 0.0000000000000000e+00i 0.0000000000000000e+00 + 0.0000000000000000e+00i \n",
      "None\n",
      "Mat Object: 1 MPI process\n",
      "  type: seqdense\n",
      "1.0000000000000000e+00 + 0.0000000000000000e+00i 1.0000000000000000e+00 + 1.0000000000000000e+00i \n",
      "0.0000000000000000e+00 + 1.0000000000000000e+00i 1.0000000000000000e+00 + -1.0000000000000000e+00i \n",
      "0.0000000000000000e+00 + 0.0000000000000000e+00i -2.0000000000000000e+00 + 0.0000000000000000e+00i \n",
      "Test on the ortho of Vn\n",
      "vec0 . vec1 = 0j\n",
      "[1.+0.j 0.+1.j 0.+0.j]\n",
      "vec 2:\n",
      "[ 1.+1.j  1.-1.j -2.+0.j]\n",
      "vec 2 conj:\n",
      "[ 1.+1.j  1.-1.j -2.+0.j]\n",
      "0j\n"
     ]
    }
   ],
   "source": [
    "\n",
    "N = 3\n",
    "\n",
    "# Créer la matrice Q\n",
    "Q = PETSc.Mat().create()\n",
    "Q.setSizes((N, N))\n",
    "Q.setType(\"seqdense\")\n",
    "Q.setFromOptions()\n",
    "Q.setUp()\n",
    "Q.setValues([i for i in range(N)], [0,1], [[1, 1+1j],[1j, 1-1j], [0, -2]], PETSc.InsertMode.INSERT_VALUES)\n",
    "Q.assemble()\n",
    "print(Q.view())\n",
    "Vn = PETSc.Mat().create()\n",
    "Vn.setSizes((N, 2))\n",
    "Vn.setType(\"seqdense\")\n",
    "Vn.setFromOptions()\n",
    "Vn.setUp()\n",
    "Vn.setValues([i for i in range(N)], [0,1], [[1, 1+1j],[1j, 1-1j], [0, -2]], PETSc.InsertMode.INSERT_VALUES)\n",
    "Vn.assemble()\n",
    "Vn.view()\n",
    "print(\"Test on the ortho of Vn\")\n",
    "check_ortho(Vn)\n",
    "vec_1 = Q.getColumnVector(0)\n",
    "vec_2 = Q.getColumnVector(1)\n",
    "print(vec_1.getArray())\n",
    "print('vec 2:')\n",
    "print(vec_2.getArray())\n",
    "#vec_2.conjugate()\n",
    "print('vec 2 conj:')\n",
    "print(vec_2.getArray())\n",
    "result = vec_1.dot(vec_2)\n",
    "print(result)\n"
   ]
  },
  {
   "cell_type": "code",
   "execution_count": 9,
   "id": "ea755dfa-4448-434a-a26f-833c8f0fedd5",
   "metadata": {},
   "outputs": [
    {
     "name": "stdout",
     "output_type": "stream",
     "text": [
      "0j\n"
     ]
    }
   ],
   "source": [
    "v = [1, 1j, 0]\n",
    "w = [1+1j, 1-1j, -2]\n",
    "print(np.dot(v,np.conj(w)))\n"
   ]
  },
  {
   "cell_type": "code",
   "execution_count": 10,
   "id": "6edfe18d-8144-4e31-b187-a7914a6d23a0",
   "metadata": {},
   "outputs": [
    {
     "name": "stdout",
     "output_type": "stream",
     "text": [
      "[1.+0.j 0.+1.j 0.+0.j]\n",
      "[ 1.+1.j  1.-1.j -2.+0.j]\n",
      "[ 1.-1.j  1.+1.j -2.-0.j]\n"
     ]
    }
   ],
   "source": [
    "vec_1 = Q.getColumnVector(0)\n",
    "vec_2 = Q.getColumnVector(1)\n",
    "print(vec_1.getArray())\n",
    "print(vec_2.getArray())\n",
    "\n",
    "for i in range(vec_2.getSize()):\n",
    "    vec_2.setValue(i, np.conj(vec_2.getValue(i)))\n",
    "\n",
    "print(vec_2.getArray())"
   ]
  },
  {
   "cell_type": "code",
   "execution_count": 11,
   "id": "ec5491cf-74f6-4e67-b5df-fb39a3a22c23",
   "metadata": {},
   "outputs": [
    {
     "name": "stdout",
     "output_type": "stream",
     "text": [
      "gere\n"
     ]
    }
   ],
   "source": [
    "print(\"gere\")"
   ]
  },
  {
   "cell_type": "code",
   "execution_count": 12,
   "id": "cb3707d6-1590-4bd1-9a3a-8f074b130b04",
   "metadata": {},
   "outputs": [
    {
     "name": "stdout",
     "output_type": "stream",
     "text": [
      "[[1. 0. 0. 0. 0. 0.]\n",
      " [0. 1. 0. 0. 0. 0.]\n",
      " [0. 0. 1. 0. 0. 0.]\n",
      " [0. 0. 0. 1. 0. 0.]\n",
      " [0. 0. 0. 0. 1. 0.]\n",
      " [0. 0. 0. 0. 0. 1.]]\n"
     ]
    }
   ],
   "source": [
    "alpha = 8\n",
    "beta = 2\n",
    "\n",
    "P_q = np.identity(alpha - beta)\n",
    "print(P_q)"
   ]
  },
  {
   "cell_type": "code",
   "execution_count": 13,
   "id": "32461a95-cb01-40a7-9d4e-74530ace2d5b",
   "metadata": {},
   "outputs": [
    {
     "name": "stdout",
     "output_type": "stream",
     "text": [
      "[[2 2]\n",
      " [2 2]]\n",
      "4\n",
      "Vec Object: 1 MPI process\n",
      "  type: seq\n",
      "2.\n",
      "2.\n",
      "None\n"
     ]
    }
   ],
   "source": [
    "y = np.array([[2, 2], [2, 2]])\n",
    "print(y)\n",
    "print(y.size)\n",
    "y = PETSc.Vec().createWithArray(y[0])\n",
    "print(y.view())"
   ]
  },
  {
   "cell_type": "code",
   "execution_count": 14,
   "id": "42488f36-8756-4b79-ae0e-f8055d34b2a0",
   "metadata": {},
   "outputs": [
    {
     "name": "stdout",
     "output_type": "stream",
     "text": [
      "Nombre de lignes: 2\n",
      "Nombre de colonnes: 3\n"
     ]
    }
   ],
   "source": [
    "import numpy as np\n",
    "\n",
    "# Créer une matrice 2D avec NumPy\n",
    "matrice = np.array([[1, 2, 3], [4, 5, 6]])\n",
    "\n",
    "# Obtenir les dimensions\n",
    "dimensions = matrice.shape\n",
    "\n",
    "# Afficher les dimensions\n",
    "print(\"Nombre de lignes:\", dimensions[0])\n",
    "print(\"Nombre de colonnes:\", dimensions[1])\n"
   ]
  },
  {
   "cell_type": "code",
   "execution_count": 19,
   "id": "c0193db2-3674-4d89-ba62-368296ecb7bf",
   "metadata": {},
   "outputs": [
    {
     "name": "stdout",
     "output_type": "stream",
     "text": [
      "Mat Object: 1 MPI process\n",
      "  type: seqdense\n",
      "1.0000000000000000e+00 2.0000000000000000e+00 0.0000000000000000e+00 \n",
      "1.0000000000000000e+00 -1.0000000000000000e+00 1.0000000000000000e+00 \n",
      "0.0000000000000000e+00 -2.0000000000000000e+00 1.0000000000000000e+00 \n",
      "None\n",
      "Mat Object: 1 MPI process\n",
      "  type: seqdense\n",
      "2.0000000000000000e+00 4.0000000000000000e+00 0.0000000000000000e+00 \n",
      "2.0000000000000000e+00 -2.0000000000000000e+00 2.0000000000000000e+00 \n",
      "0.0000000000000000e+00 -4.0000000000000000e+00 2.0000000000000000e+00 \n",
      "None\n"
     ]
    }
   ],
   "source": [
    "N = 3\n",
    "\n",
    "# Créer la matrice Q\n",
    "Q = PETSc.Mat().create()\n",
    "Q.setSizes((N, N))\n",
    "Q.setType(\"seqdense\")\n",
    "Q.setFromOptions()\n",
    "Q.setUp()\n",
    "Q.setValues([i for i in range(N)], [0,1,2], [[1, 2, 0],[1, -1, 1], [0, -2, 1]], PETSc.InsertMode.INSERT_VALUES)\n",
    "Q.assemble()\n",
    "print(Q.view())\n",
    "Q = 2*Q\n",
    "print(Q.view())"
   ]
  },
  {
   "cell_type": "code",
   "execution_count": 22,
   "id": "84c1cc1b-a60d-40cf-bcf8-b9e8f54415b8",
   "metadata": {},
   "outputs": [
    {
     "name": "stdout",
     "output_type": "stream",
     "text": [
      "Here we are\n",
      "yes\n",
      "Here we are\n",
      "here we are\n"
     ]
    }
   ],
   "source": [
    "def print_something(something):\n",
    "    print(something)\n",
    "\n",
    "def print_something_else(something):\n",
    "    print('here we are')\n",
    "\n",
    "def help(fct):\n",
    "    print('Here we are')\n",
    "    fct('yes')\n",
    "\n",
    "help(print_something)\n",
    "help(print_something_else)"
   ]
  },
  {
   "cell_type": "code",
   "execution_count": 24,
   "id": "386b74f1-4f6c-496a-8e64-6b81a0acb417",
   "metadata": {},
   "outputs": [
    {
     "name": "stdout",
     "output_type": "stream",
     "text": [
      "[[1, 2]]\n",
      "[[1, 2], [1, 2]]\n"
     ]
    }
   ],
   "source": [
    "a = []\n",
    "a.append([1, 2])\n",
    "print(a)\n",
    "a.append([1, 2])\n",
    "print(a)"
   ]
  },
  {
   "cell_type": "code",
   "execution_count": 11,
   "id": "5823c15d-584b-41d9-8d48-fc403724f986",
   "metadata": {},
   "outputs": [
    {
     "name": "stdout",
     "output_type": "stream",
     "text": [
      "[[ 1  2  0]\n",
      " [ 1 -1  1]\n",
      " [ 0 -2  1]]\n",
      "[3.18646485 1.67672609 0.18716677]\n",
      "SVD Object: 1 MPI process\n",
      "  type: cross\n",
      "    implicit matrix\n",
      "    EPS Object: (svd_cross_) 1 MPI process\n",
      "      type: krylovschur\n",
      "        50% of basis vectors kept after restart\n",
      "        using the locking variant\n",
      "      problem type: hermitian eigenvalue problem\n",
      "      selected portion of the spectrum: largest real parts\n",
      "      number of eigenvalues (nev): 1\n",
      "      number of column vectors (ncv): 3\n",
      "      maximum dimension of projected problem (mpd): 3\n",
      "      maximum number of iterations: 100\n",
      "      tolerance: 1e-09\n",
      "      convergence test: relative to the eigenvalue\n",
      "    BV Object: (svd_cross_) 1 MPI process\n",
      "      type: svec\n",
      "      4 columns of global length 3\n",
      "      vector orthogonalization method: classical Gram-Schmidt\n",
      "      orthogonalization refinement: if needed (eta: 0.7071)\n",
      "      block orthogonalization method: GS\n",
      "      doing matmult as a single matrix-matrix product\n",
      "    DS Object: (svd_cross_) 1 MPI process\n",
      "      type: hep\n",
      "      solving the problem with: Implicit QR method (_steqr)\n",
      "    ST Object: (svd_cross_) 1 MPI process\n",
      "      type: shift\n",
      "      shift: 0.\n",
      "      number of matrices: 1\n",
      "  problem type: (standard) singular value problem\n",
      "  transpose mode: explicit\n",
      "  selected portion of the spectrum: largest\n",
      "  number of singular values (nsv): 1\n",
      "  number of column vectors (ncv): 3\n",
      "  maximum dimension of projected problem (mpd): 3\n",
      "  maximum number of iterations: 100\n",
      "  tolerance: 1e-08\n",
      "  convergence test: relative to the singular value\n",
      "None\n"
     ]
    }
   ],
   "source": [
    "from petsc4py import PETSc\n",
    "from petsc4py.PETSc import Mat\n",
    "from slepc4py import SLEPc\n",
    "\n",
    "import numpy as np\n",
    "import scipy.linalg as la\n",
    "N = 3\n",
    "\n",
    "A = np.array([[1, 2, 0],[1, -1, 1], [0, -2, 1]])\n",
    "print(A)\n",
    "L, S, R = la.svd(A)\n",
    "print(S)\n",
    "\n",
    "\n",
    "Q = PETSc.Mat().create(PETSc.COMM_WORLD)\n",
    "Q.setSizes((N, N))\n",
    "Q.setType(\"seqdense\")\n",
    "Q.setFromOptions()\n",
    "Q.setUp()\n",
    "Q.setValues([i for i in range(N)], [0,1,2], [[1, 2, 0],[1, -1, 1], [0, -2, 1]], PETSc.InsertMode.INSERT_VALUES)\n",
    "Q.assemble()\n",
    "\n",
    "SVD = SLEPc.SVD(); SVD.create()\n",
    "SVD.setOperators(Q)\n",
    "SVD.solve()\n",
    "print(SVD.view())"
   ]
  },
  {
   "cell_type": "code",
   "execution_count": null,
   "id": "f1d5b470-5481-4acb-806f-266aa66f16fc",
   "metadata": {},
   "outputs": [],
   "source": [
    "\n",
    "Q = PETSc.Mat().create(PETSc.COMM_WORLD)\n",
    "Q.setSizes((N, N))\n",
    "Q.setType(\"seqdense\")\n",
    "Q.setFromOptions()\n",
    "Q.setUp()\n",
    "Q.setValues([i for i in range(N)], [0,1,2], [[1, 2, 0],[1, -1, 1], [0, -2, 1]], PETSc.InsertMode.INSERT_VALUES)\n",
    "Q.assemble()\n",
    "\n",
    "print()"
   ]
  },
  {
   "cell_type": "code",
   "execution_count": null,
   "id": "c1a796b8-db75-4c14-ae5b-f99216fe560c",
   "metadata": {},
   "outputs": [],
   "source": [
    "from petsc4py import PETSc\n",
    "\n",
    "# Taille de la matrice\n",
    "n = 4\n",
    "\n",
    "# Création d'une matrice PETSc\n",
    "A = PETSc.Mat().create()\n",
    "A.setSizes([n, n])\n",
    "A.setType('aij')  # Matrice creuse\n",
    "A.setUp()\n",
    "\n",
    "# Remplir la matrice avec vos valeurs\n",
    "# Exemple: une matrice diagonale\n",
    "for i in range(n):\n",
    "    A[i, i] = i + 1\n",
    "\n",
    "A.assemblyBegin()\n",
    "A.assemblyEnd()\n",
    "\n",
    "# Création du solveur pour le problème aux valeurs propres\n",
    "EPS = PETSc.EPS().create()\n",
    "\n",
    "# Configuration du solveur\n",
    "EPS.setOperators(A)  # Définit l'opérateur (la matrice)\n",
    "EPS.setProblemType(PETSc.EPS.ProblemType.HEP)  # Problème aux valeurs propres hermitien\n",
    "EPS.setFromOptions()\n",
    "\n",
    "# Résoudre le problème aux valeurs propres\n",
    "EPS.solve()\n",
    "\n",
    "# Nombre de valeurs propres trouvées\n",
    "nconv = EPS.getConverged()\n",
    "\n",
    "# Extraire et afficher les valeurs propres et les vecteurs propres\n",
    "for i in range(nconv):\n",
    "    vr, vi = EPS.getEigenpair(i)  # Obtient la i-ème valeur propre et le vecteur propre\n",
    "    print(f\"Valeur propre {i}: {vr} + {vi}i\")\n",
    "    # Affichez ici le vecteur propre si nécessaire\n"
   ]
  },
  {
   "cell_type": "code",
   "execution_count": 24,
   "id": "0b196951-4edb-475d-a403-7e8fb9a24853",
   "metadata": {},
   "outputs": [
    {
     "name": "stdout",
     "output_type": "stream",
     "text": [
      "3\n",
      "Valeur singulière 0: 3.1864648462675134\n",
      "Valeur singulière 1: 1.6767260908187667\n",
      "Valeur singulière 2: 0.18716677020499142\n",
      "[[ 1  2  0]\n",
      " [ 1 -1  1]\n",
      " [ 0 -2  1]]\n",
      "[3.18646485 1.67672609 0.18716677]\n",
      "[[-0.61244809 -0.64904713  0.45127061]\n",
      " [ 0.37700276 -0.74157201 -0.5549233 ]\n",
      " [ 0.69482103 -0.16973145  0.69886692]]\n"
     ]
    }
   ],
   "source": [
    "from petsc4py import PETSc\n",
    "import slepc4py.SLEPc as SLEPc\n",
    "\n",
    "# Initialiser PETSc/SLEPc\n",
    "\n",
    "# Taille de la matrice\n",
    "N = 3\n",
    "\n",
    "Q = PETSc.Mat().create(PETSc.COMM_WORLD)\n",
    "Q.setSizes((N, N))\n",
    "Q.setType(\"seqdense\")\n",
    "Q.setFromOptions()\n",
    "Q.setUp()\n",
    "Q.setValues([i for i in range(N)], [0,1,2], [[1, 2, 0],[1, -1, 1], [0, -2, 1]], PETSc.InsertMode.INSERT_VALUES)\n",
    "Q.assemble()\n",
    "\n",
    "# Création de l'objet SVD\n",
    "svd = SLEPc.SVD().create()\n",
    "\n",
    "# Configuration de l'objet SVD\n",
    "svd.setOperator(Q)\n",
    "svd.setFromOptions()\n",
    "\n",
    "# Calcul de la SVD\n",
    "svd.solve()\n",
    "\n",
    "# Nombre de valeurs singulières trouvées\n",
    "nsv = svd.getConverged()\n",
    "print(nsv)\n",
    "\n",
    "# Correction ici: Déclarer des vecteurs pour les vecteurs singuliers\n",
    "leftVec = PETSc.Vec().createSeq(N)\n",
    "rightVec = PETSc.Vec().createSeq(N)\n",
    "\n",
    "# Pour stocker les valeurs singulières\n",
    "sigmaValues = []\n",
    "\n",
    "for i in range(nsv):\n",
    "    sigma = svd.getSingularTriplet(i, leftVec, rightVec)\n",
    "    sigmaValues.append(sigma)\n",
    "\n",
    "    # Afficher la valeur singulière et les vecteurs associés si nécessaire\n",
    "    print(f\"Valeur singulière {i}: {sigma}\")\n",
    "    # Utiliser leftVec et rightVec comme nécessaire ici\n",
    "\n",
    "# N'oubliez pas de libérer les ressources si vous n'en avez plus besoin\n",
    "leftVec.destroy()\n",
    "rightVec.destroy()\n",
    "\n",
    "A = np.array([[1, 2, 0],[1, -1, 1], [0, -2, 1]])\n",
    "print(A)\n",
    "L, S, R = la.svd(A)\n",
    "print(S)\n",
    "print(L)"
   ]
  },
  {
   "cell_type": "code",
   "execution_count": 23,
   "id": "6bc59d1c-22da-4e4b-86f4-cfd5ae33e15c",
   "metadata": {},
   "outputs": [
    {
     "name": "stdout",
     "output_type": "stream",
     "text": [
      "Mat Object: 1 MPI process\n",
      "  type: seqdense\n",
      "2.4719809532669495e-17 + 3.9031278209478152e-18i 2.6599093298311015e-17 + 5.6378512969246169e-18i 3.3152111030998158e-32 + -5.2041704279304151e-18i 9.9633758439600639e-01 + 8.5506829668344067e-02i \n",
      "-4.3368086899420170e-18 + -3.4694469519536136e-17i 4.6259292692714846e-18 + 2.9605947323337496e-16i 6.9126180044292052e-02 + 9.9760792460389180e-01i 5.2034680224884086e-18 + 8.5500771260175115e-20i \n",
      "-1.4571677198205177e-16 + -2.7972416050126008e-17i -9.8355799057466242e-01 + -1.8059257785615748e-01i 2.9367212341716214e-16 + 3.7806015929782642e-17i 2.7143768752784582e-17 + 1.5852285115543804e-18i \n",
      "3.8265088302388017e-01 + 9.2389301421812076e-01i -5.7880886695226011e-17 + -1.3662224069281332e-16i 1.1577432529132265e-17 + 3.2992077547322918e-17i -1.1192142755625276e-17 + -2.2383907850413862e-17i \n",
      "None\n"
     ]
    }
   ],
   "source": [
    "from petsc4py import PETSc\n",
    "import slepc4py.SLEPc as SLEPc\n",
    "\n",
    "\n",
    "\n",
    "# Taille de la matrice\n",
    "n = 4\n",
    "\n",
    "# Création de la matrice A\n",
    "A = PETSc.Mat().create(PETSc.COMM_WORLD)\n",
    "A.setSizes([n, n])\n",
    "A.setType('aij')  # Matrice creuse\n",
    "A.setUp()\n",
    "\n",
    "# Remplir la matrice A (Exemple simple)\n",
    "for i in range(n):\n",
    "    A.setValue(i, i, i+1)\n",
    "A.assemblyBegin()\n",
    "A.assemblyEnd()\n",
    "\n",
    "# Création de l'objet SVD\n",
    "svd = SLEPc.SVD().create()\n",
    "\n",
    "# Configuration de l'objet SVD\n",
    "svd.setOperator(A)\n",
    "svd.setFromOptions()\n",
    "\n",
    "# Calcul de la SVD\n",
    "svd.solve()\n",
    "\n",
    "# Nombre de valeurs singulières trouvées\n",
    "nsv = svd.getConverged()\n",
    "\n",
    "# Préparation des matrices L, Sigma, et R\n",
    "L = PETSc.Mat().createDense([n, nsv], comm=PETSc.COMM_WORLD)\n",
    "Sigma = PETSc.Mat().createDense([nsv, nsv], comm=PETSc.COMM_WORLD)\n",
    "R = PETSc.Mat().createDense([n, nsv], comm=PETSc.COMM_WORLD)\n",
    "\n",
    "# Extraction de L, Sigma, et R\n",
    "for i in range(nsv):\n",
    "    u, s, v = PETSc.Vec().createSeq(n), PETSc.Vec().createSeq(n), PETSc.Vec().createSeq(n)\n",
    "    svd.getSingularTriplet(i, u, v)\n",
    "    #Sigma.setValue(i, i, s)\n",
    "    for j in range(n):\n",
    "        L.setValue(j, i, u[j])\n",
    "        R.setValue(j, i, v[j])\n",
    "\n",
    "L.assemblyBegin()\n",
    "L.assemblyEnd()\n",
    "print(L.view())\n",
    "R.assemblyBegin()\n",
    "R.assemblyEnd()\n",
    "\n",
    "# À ce stade, L, Sigma, et R contiennent les matrices de la décomposition en valeurs singulières de A\n"
   ]
  },
  {
   "cell_type": "code",
   "execution_count": 33,
   "id": "e4053fa5-1f5c-41a2-8aac-675d74c56c65",
   "metadata": {},
   "outputs": [
    {
     "name": "stdout",
     "output_type": "stream",
     "text": [
      "Matrice L:\n",
      "Mat Object: 1 MPI process\n",
      "  type: seqdense\n",
      "6.1244808705911258e-01 6.4904713363061828e-01 4.5127060505146144e-01 \n",
      "3.7700275734932326e-01 7.4157201470617728e-01 5.5492329916451377e-01 \n",
      "6.9482102847326177e-01 1.6973145062273964e-01 6.9886692085178803e-01 \n",
      "Matrice Sigma (valeurs singulières):\n",
      "Mat Object: 1 MPI process\n",
      "  type: seqdense\n",
      "3.1864648462675134e+00 0.0000000000000000e+00 0.0000000000000000e+00 \n",
      "0.0000000000000000e+00 1.6767260908187667e+00 0.0000000000000000e+00 \n",
      "0.0000000000000000e+00 0.0000000000000000e+00 1.8716677020499142e-01 \n",
      "[[ 1.+0.j  2.+0.j  0.+0.j]\n",
      " [ 1.+0.j -1.+0.j  1.+0.j]\n",
      " [ 0.+0.j -2.+0.j  1.+0.j]]\n",
      "[3.18646485 1.67672609 0.18716677]\n",
      "[[-0.61244809+0.j -0.64904713+0.j  0.45127061+0.j]\n",
      " [ 0.37700276+0.j -0.74157201+0.j -0.5549233 +0.j]\n",
      " [ 0.69482103+0.j -0.16973145+0.j  0.69886692+0.j]]\n"
     ]
    }
   ],
   "source": [
    "from petsc4py import PETSc\n",
    "import slepc4py.SLEPc as SLEPc\n",
    "\n",
    "\n",
    "# Taille de la matrice\n",
    "n = 3\n",
    "\n",
    "# Création de la matrice A\n",
    "A = PETSc.Mat().create(PETSc.COMM_WORLD)\n",
    "A.setSizes((N, N))\n",
    "A.setType(\"seqdense\")\n",
    "A.setFromOptions()\n",
    "A.setUp()\n",
    "A.setValues([i for i in range(N)], [0,1,2], [[1, 2, 0],[1, -1, 1], [0, -2, 1]], PETSc.InsertMode.INSERT_VALUES)\n",
    "A.assemble()\n",
    "\n",
    "# Création de l'objet SVD\n",
    "svd = SLEPc.SVD().create()\n",
    "\n",
    "# Configuration de l'objet SVD\n",
    "svd.setOperator(A)\n",
    "svd.setFromOptions()\n",
    "\n",
    "# Calcul de la SVD\n",
    "svd.solve()\n",
    "\n",
    "# Nombre de valeurs singulières trouvées\n",
    "nsv = svd.getConverged()\n",
    "\n",
    "# Initialiser les matrices L et Sigma\n",
    "L = PETSc.Mat().createDense([n, nsv], comm=PETSc.COMM_WORLD)\n",
    "Sigma = PETSc.Mat().createDense([nsv, nsv], comm=PETSc.COMM_WORLD)\n",
    "L.setUp()\n",
    "Sigma.setUp()\n",
    "\n",
    "# Boucle sur les valeurs singulières\n",
    "for i in range(nsv):\n",
    "    u = PETSc.Vec().createSeq(n)\n",
    "    v = PETSc.Vec().createSeq(n)  # Non utilisé ici, mais nécessaire pour getSingularTriplet\n",
    "    sigma = svd.getSingularTriplet(i, u, v)\n",
    "    \n",
    "    # Mettre à jour Sigma\n",
    "    Sigma.setValue(i, i, sigma)\n",
    "    \n",
    "    # Mettre à jour L\n",
    "    for j in range(n):\n",
    "        L[j, i] = np.abs(u[j])  # Stocker uniquement la partie réelle si les valeurs sont complexes\n",
    "\n",
    "# Finaliser les modifications sur L et Sigma\n",
    "L.assemble()\n",
    "Sigma.assemble()\n",
    "\n",
    "\n",
    "# Affichage pour vérification\n",
    "print(\"Matrice L:\")\n",
    "L.view()\n",
    "print(\"Matrice Sigma (valeurs singulières):\")\n",
    "Sigma.view()\n",
    "\n",
    "#A = np.array([[1, 2, 0],[1, -1, 1], [0, -2, 1]])\n",
    "A = A.getDenseArray()\n",
    "print(A)\n",
    "L, S, R = la.svd(A)\n",
    "print(S)\n",
    "print(L)"
   ]
  },
  {
   "cell_type": "code",
   "execution_count": 36,
   "id": "118a2146-cbac-4eb8-a927-aca1f1da706a",
   "metadata": {},
   "outputs": [
    {
     "name": "stdout",
     "output_type": "stream",
     "text": [
      "Mat Object: 1 MPI process\n",
      "  type: seqdense\n",
      "0.0000000000000000e+00 0.0000000000000000e+00 0.0000000000000000e+00 \n",
      "0.0000000000000000e+00 0.0000000000000000e+00 0.0000000000000000e+00 \n",
      "0.0000000000000000e+00 0.0000000000000000e+00 0.0000000000000000e+00 \n",
      "None\n"
     ]
    },
    {
     "ename": "Error",
     "evalue": "error code 56\n[0] MatDenseGetLDA() at /usr/local/petsc/src/mat/impls/dense/seq/dense.c:2122\n[0] No support for this operation for this object type\n[0] Cannot locate function MatDenseGetLDA_C in object",
     "output_type": "error",
     "traceback": [
      "\u001b[0;31m---------------------------------------------------------------------------\u001b[0m",
      "\u001b[0;31mError\u001b[0m                                     Traceback (most recent call last)",
      "Cell \u001b[0;32mIn[36], line 62\u001b[0m\n\u001b[1;32m     59\u001b[0m A\u001b[38;5;241m.\u001b[39massemble()\n\u001b[1;32m     61\u001b[0m \u001b[38;5;28mprint\u001b[39m(SVD_ortho1(A)\u001b[38;5;241m.\u001b[39mview())\n\u001b[0;32m---> 62\u001b[0m \u001b[38;5;28mprint\u001b[39m(\u001b[43mSVD_ortho2\u001b[49m\u001b[43m(\u001b[49m\u001b[43mA\u001b[49m\u001b[43m)\u001b[49m\u001b[38;5;241;43m.\u001b[39;49m\u001b[43mgetDenseArray\u001b[49m\u001b[43m(\u001b[49m\u001b[43m)\u001b[49m)\n",
      "File \u001b[0;32mpetsc4py/PETSc/Mat.pyx:1772\u001b[0m, in \u001b[0;36mpetsc4py.PETSc.Mat.getDenseArray\u001b[0;34m()\u001b[0m\n",
      "\u001b[0;31mError\u001b[0m: error code 56\n[0] MatDenseGetLDA() at /usr/local/petsc/src/mat/impls/dense/seq/dense.c:2122\n[0] No support for this operation for this object type\n[0] Cannot locate function MatDenseGetLDA_C in object"
     ]
    }
   ],
   "source": [
    "def SVD_ortho1(Vn):\n",
    "\n",
    "    svd = SLEPc.SVD().create()\n",
    "    svd.setOperator(Vn)\n",
    "    svd.setFromOptions()\n",
    "    svd.solve()\n",
    "    \n",
    "    nsv = svd.getConverged()\n",
    "    n   = Vn.getSize()[0]\n",
    "    #print(f'svd : {nsv}')\n",
    "    \n",
    "    L = PETSc.Mat().createDense([n, nsv], comm=PETSc.COMM_WORLD)\n",
    "    L.setUp()  \n",
    "    \n",
    "    for i in range(nsv):\n",
    "        u = PETSc.Vec().createSeq(n)\n",
    "\n",
    "        for j in range(n):\n",
    "            L[j, i] = np.abs(u[j]) \n",
    "    \n",
    "    L.assemble()\n",
    "    return L\n",
    "\n",
    "def SVD_ortho2(Vn):\n",
    "    Vn = Vn.getDenseArray()\n",
    "    if False:\n",
    "        _lambda, Psi_matrix = np.linalg.eig(np.dot(np.conjugate(Vn).T,Vn)) # Solve V.H*V*Psi_matrix = Psi_matrix*Lambda_matrix\n",
    "        Lambda_matrix = np.diag(_lambda)\n",
    "        V_n = Vn @ Psi_matrix @ (Lambda_matrix)**2  # Lambda_matrix^{0.5} is the diagonal matrix of the singular value of V\n",
    "    else:\n",
    "        L, S, R = la.svd(Vn)\n",
    "        #print(min(S))\n",
    "        L_star = L[:,0:len(S)]\n",
    "        V_n = L_star\n",
    "\n",
    "    V_petsc = PETSc.Mat().create()\n",
    "    V_petsc.setSizes((V_n.shape[0], V_n.shape[1]))\n",
    "    V_petsc.setType('aij')  # Matrice creuse, pour une matrice dense, vous pouvez utiliser 'dense'\n",
    "    V_petsc.setUp()\n",
    "\n",
    "    for i in range(V_n.shape[0]):\n",
    "        for j in range(V_n.shape[1]):\n",
    "            V_petsc[i, j] = V_n[i, j]\n",
    "    V_petsc.assemble()\n",
    "\n",
    "    return V_petsc\n",
    "\n",
    "\n",
    "# Taille de la matrice\n",
    "n = 3\n",
    "\n",
    "# Création de la matrice A\n",
    "A = PETSc.Mat().create(PETSc.COMM_WORLD)\n",
    "A.setSizes((N, N))\n",
    "A.setType(\"seqdense\")\n",
    "A.setFromOptions()\n",
    "A.setUp()\n",
    "A.setValues([i for i in range(N)], [0,1,2], [[1, 2, 0],[1, -1, 1], [0, -2, 1]], PETSc.InsertMode.INSERT_VALUES)\n",
    "A.assemble()\n",
    "\n",
    "print(SVD_ortho1(A).view())\n",
    "print(SVD_ortho2(A).getDenseArray())"
   ]
  },
  {
   "cell_type": "code",
   "execution_count": null,
   "id": "35fb9435-5ed6-4ccd-bd06-7cf6b01e0191",
   "metadata": {},
   "outputs": [],
   "source": []
  }
 ],
 "metadata": {
  "kernelspec": {
   "display_name": "Python 3 (ipykernel)",
   "language": "python",
   "name": "python3"
  },
  "language_info": {
   "codemirror_mode": {
    "name": "ipython",
    "version": 3
   },
   "file_extension": ".py",
   "mimetype": "text/x-python",
   "name": "python",
   "nbconvert_exporter": "python",
   "pygments_lexer": "ipython3",
   "version": "3.10.6"
  }
 },
 "nbformat": 4,
 "nbformat_minor": 5
}
