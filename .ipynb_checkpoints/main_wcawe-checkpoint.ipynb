{
 "cells": [
  {
   "cell_type": "code",
   "execution_count": 1,
   "id": "2ed38311-03bc-46ad-b34e-da730b27a924",
   "metadata": {},
   "outputs": [],
   "source": [
    "import numpy as np\n",
    "from scipy import special\n",
    "from geometries import cubic_domain, spherical_domain, half_cubic_domain, broken_cubic_domain\n",
    "from postprocess import relative_errZ,import_FOM_result\n",
    "from dolfinx.fem import (form, Function, FunctionSpace, petsc)\n",
    "import petsc4py\n",
    "from petsc4py import PETSc\n",
    "import matplotlib.pyplot as plt\n",
    "from time import time\n",
    "from tqdm import tqdm\n"
   ]
  },
  {
   "cell_type": "code",
   "execution_count": 2,
   "id": "d2281272-6e04-4a1e-af20-9c5d5a1bd64c",
   "metadata": {},
   "outputs": [],
   "source": [
    "from operators_POO import Mesh, B1p, Loading, Simulation\n",
    "\n",
    "geometry1 = 'cubic'\n",
    "geometry2 = 'small'\n",
    "geometry  = geometry1 + '_'+ geometry2\n",
    "\n",
    "if   geometry2 == 'small':\n",
    "    side_box = 0.11\n",
    "    lc       = 8e-3\n",
    "elif geometry2 == 'large':\n",
    "    side_box = 0.40\n",
    "    lc       = 2e-2\n",
    "else :\n",
    "    print(\"Enter your own side_box and mesh size in the code\")\n",
    "    side_box = 0.11\n",
    "    lc       = 8e-3 #Typical mesh size : Small case : 8e-3 Large case : 2e-3\n",
    "\n",
    "radius   = 0.1\n",
    "\n",
    "rho0 = 1.21\n",
    "c0   = 343.8\n",
    "\n",
    "freqvec = np.arange(80, 2001, 20)"
   ]
  },
  {
   "cell_type": "code",
   "execution_count": 3,
   "id": "a0047c3f-b931-4ee5-a3c6-ce9d45bc7630",
   "metadata": {},
   "outputs": [
    {
     "name": "stdout",
     "output_type": "stream",
     "text": [
      "Info    : Meshing 1D...\n",
      "Info    : [  0%] Meshing curve 1 (Line)\n",
      "Info    : [ 10%] Meshing curve 2 (Line)\n",
      "Info    : [ 20%] Meshing curve 3 (Line)\n",
      "Info    : [ 20%] Meshing curve 4 (Line)\n",
      "Info    : [ 30%] Meshing curve 5 (Line)\n",
      "Info    : [ 40%] Meshing curve 6 (Line)\n",
      "Info    : [ 40%] Meshing curve 7 (Line)\n",
      "Info    : [ 50%] Meshing curve 8 (Line)\n",
      "Info    : [ 60%] Meshing curve 9 (Line)\n",
      "Info    : [ 60%] Meshing curve 10 (Line)\n",
      "Info    : [ 70%] Meshing curve 11 (Line)\n",
      "Info    : [ 80%] Meshing curve 12 (Line)\n",
      "Info    : [ 80%] Meshing curve 13 (Line)\n",
      "Info    : [ 90%] Meshing curve 14 (Line)\n",
      "Info    : [100%] Meshing curve 15 (Circle)\n",
      "Info    : Done meshing 1D (Wall 0.00287221s, CPU 0.003758s)\n",
      "Info    : Meshing 2D...\n",
      "Info    : [  0%] Meshing surface 1 (Plane, Frontal-Delaunay)\n",
      "Info    : [ 20%] Meshing surface 2 (Plane, Frontal-Delaunay)\n",
      "Info    : [ 30%] Meshing surface 3 (Plane, Frontal-Delaunay)\n",
      "Info    : [ 50%] Meshing surface 4 (Plane, Frontal-Delaunay)\n",
      "Info    : [ 60%] Meshing surface 5 (Plane, Frontal-Delaunay)\n",
      "Info    : [ 80%] Meshing surface 6 (Plane, Frontal-Delaunay)\n",
      "Info    : [ 90%] Meshing surface 7 (Plane, Frontal-Delaunay)\n",
      "Info    : Done meshing 2D (Wall 0.0376612s, CPU 0.037772s)\n",
      "Info    : Meshing 3D...\n",
      "Info    : 3D Meshing 1 volume with 1 connected component\n",
      "Info    : Tetrahedrizing 1421 nodes...\n",
      "Info    : Done tetrahedrizing 1429 nodes (Wall 0.0118132s, CPU 0.011808s)\n",
      "Info    : Reconstructing mesh...\n",
      "Info    :  - Creating surface mesh\n",
      "Info    :  - Identifying boundary edges\n",
      "Info    :  - Recovering boundary\n",
      "Info    : Done reconstructing mesh (Wall 0.0285082s, CPU 0.027865s)\n",
      "Info    : Found volume 1\n",
      "Info    : It. 0 - 0 nodes created - worst tet radius 7.02905 (nodes removed 0 0)\n",
      "Info    : It. 500 - 500 nodes created - worst tet radius 1.33912 (nodes removed 0 0)\n",
      "Info    : It. 1000 - 1000 nodes created - worst tet radius 1.09455 (nodes removed 0 0)\n",
      "Info    : 3D refinement terminated (2795 nodes total):\n",
      "Info    :  - 0 Delaunay cavities modified for star shapeness\n",
      "Info    :  - 0 nodes could not be inserted\n",
      "Info    :  - 12913 tetrahedra created in 0.0372701 sec. (346470 tets/s)\n",
      "Info    : Done meshing 3D (Wall 0.0900202s, CPU 0.089549s)\n",
      "Info    : Optimizing mesh...\n",
      "Info    : Optimizing volume 1\n",
      "Info    : Optimization starts (volume = 0.001331) with worst = 0.0155987 / average = 0.775323:\n",
      "Info    : 0.00 < quality < 0.10 :        30 elements\n",
      "Info    : 0.10 < quality < 0.20 :        78 elements\n",
      "Info    : 0.20 < quality < 0.30 :       153 elements\n",
      "Info    : 0.30 < quality < 0.40 :       207 elements\n",
      "Info    : 0.40 < quality < 0.50 :       313 elements\n",
      "Info    : 0.50 < quality < 0.60 :       599 elements\n",
      "Info    : 0.60 < quality < 0.70 :      1501 elements\n",
      "Info    : 0.70 < quality < 0.80 :      3173 elements\n",
      "Info    : 0.80 < quality < 0.90 :      4566 elements\n",
      "Info    : 0.90 < quality < 1.00 :      2292 elements\n",
      "Info    : 257 edge swaps, 12 node relocations (volume = 0.001331): worst = 0.25656 / average = 0.787477 (Wall 0.00409612s, CPU 0.004158s)\n",
      "Info    : 262 edge swaps, 13 node relocations (volume = 0.001331): worst = 0.257941 / average = 0.787696 (Wall 0.00474729s, CPU 0.004831s)\n",
      "Info    : 263 edge swaps, 13 node relocations (volume = 0.001331): worst = 0.300588 / average = 0.787737 (Wall 0.00527875s, CPU 0.005384s)\n",
      "Info    : No ill-shaped tets in the mesh :-)\n",
      "Info    : 0.00 < quality < 0.10 :         0 elements\n",
      "Info    : 0.10 < quality < 0.20 :         0 elements\n",
      "Info    : 0.20 < quality < 0.30 :         0 elements\n",
      "Info    : 0.30 < quality < 0.40 :       205 elements\n",
      "Info    : 0.40 < quality < 0.50 :       298 elements\n",
      "Info    : 0.50 < quality < 0.60 :       604 elements\n",
      "Info    : 0.60 < quality < 0.70 :      1497 elements\n",
      "Info    : 0.70 < quality < 0.80 :      3182 elements\n",
      "Info    : 0.80 < quality < 0.90 :      4612 elements\n",
      "Info    : 0.90 < quality < 1.00 :      2283 elements\n",
      "Info    : Done optimizing mesh (Wall 0.012754s, CPU 0.012951s)\n",
      "Info    : 2795 nodes 15720 elements\n",
      "Info    : Writing 'no_name.msh'...\n",
      "Info    : Done writing 'no_name.msh'\n"
     ]
    }
   ],
   "source": [
    "mesh_    = Mesh(1, side_box, radius, lc, cubic_domain)\n",
    "_, ds, _ = mesh_.integral_mesure()\n",
    "\n",
    "\n",
    "loading        = Loading(mesh_)\n",
    "list_coeff_F_j = loading.deriv_coeff_F(0)"
   ]
  },
  {
   "cell_type": "code",
   "execution_count": 4,
   "id": "999a2cf5-af96-4b93-8292-537fdcebd560",
   "metadata": {},
   "outputs": [],
   "source": [
    "from operators_POO import B1p\n",
    "ope1  = B1p(mesh_)\n",
    "simu1 = Simulation(mesh_, ope1, loading)"
   ]
  },
  {
   "cell_type": "code",
   "execution_count": 5,
   "id": "52388997-b88c-44ef-b9f6-95267b2f15e5",
   "metadata": {},
   "outputs": [],
   "source": [
    "from operators_POO import store_results, import_frequency_sweep\n",
    "from_data_b1p = True\n",
    "if from_data_b1p:\n",
    "    s1 = 'FOM_b1p'\n",
    "    s = s1 + '_' + geometry\n",
    "    freqvec, PavFOM1 = import_frequency_sweep(s)\n",
    "else :\n",
    "    PavFOM1 = simu1.FOM(freqvec)\n",
    "    s1 = 'FOM_b1p'\n",
    "    s = s1 + '_' + geometry\n",
    "    store_results(s, freqvec, PavFOM1)"
   ]
  },
  {
   "cell_type": "code",
   "execution_count": 6,
   "id": "72b5b7a0-3dce-4515-a7ba-10ece7f09758",
   "metadata": {},
   "outputs": [
    {
     "name": "stdout",
     "output_type": "stream",
     "text": [
      "WCAWE CPU time  : 3.4993488788604736\n",
      "n : 3529\n",
      "svd : 15\n",
      "SVD CPU time  : 0.0528559684753418\n"
     ]
    },
    {
     "name": "stderr",
     "output_type": "stream",
     "text": [
      "100%|█████████████████████████████████████████████████████████████████████████████████████████████| 97/97 [00:03<00:00, 26.76it/s]"
     ]
    },
    {
     "name": "stdout",
     "output_type": "stream",
     "text": [
      "Whole CPU time  : 7.189362287521362\n"
     ]
    },
    {
     "name": "stderr",
     "output_type": "stream",
     "text": [
      "\n"
     ]
    }
   ],
   "source": [
    "from operators_POO import SVD_ortho\n",
    "\n",
    "N    = 15\n",
    "f_0  = 1000\n",
    "t1   = time()\n",
    "Vn   = simu1.wcawe(N, f_0)\n",
    "t2   = time()\n",
    "print(f'WCAWE CPU time  : {t2 -t1}')\n",
    "\n",
    "Vn = SVD_ortho(Vn)\n",
    "t3 = time()\n",
    "print(f'SVD CPU time  : {t3 -t2}')\n",
    "\n",
    "PavWCAWE = simu1.moment_matching_MOR(Vn, freqvec)\n",
    "t4       = time()\n",
    "print(f'Whole CPU time  : {t4 -t1}')"
   ]
  },
  {
   "cell_type": "code",
   "execution_count": 7,
   "id": "3e117bcc-1306-42da-b01a-138a38d53499",
   "metadata": {},
   "outputs": [
    {
     "data": {
      "text/plain": [
       "(0.0, 1.5)"
      ]
     },
     "execution_count": 7,
     "metadata": {},
     "output_type": "execute_result"
    },
    {
     "data": {
      "image/png": "[encoded data removed]",
      "text/plain": [
       "<Figure size 640x480 with 1 Axes>"
      ]
     },
     "metadata": {},
     "output_type": "display_data"
    }
   ],
   "source": [
    "fig, ax = plt.subplots()\n",
    "simu1.plot_radiation_factor(ax, freqvec, PavFOM1, s = 'FOM_b1p')\n",
    "simu1.plot_radiation_factor(ax, freqvec, PavWCAWE, s = 'WCAWE')\n",
    "ax.set_ylim(0, 1.5)"
   ]
  },
  {
   "cell_type": "code",
   "execution_count": 8,
   "id": "bb8787b6-4001-4ca7-b4e9-43636c0dfffa",
   "metadata": {},
   "outputs": [],
   "source": [
    "from operators_POO import B2p\n",
    "mesh_.set_deg(2)\n",
    "ope2           = B2p(mesh_)\n",
    "\n",
    "loading        = Loading(mesh_)\n",
    "list_coeff_F_j = loading.deriv_coeff_F(0)\n",
    "\n",
    "simu2 = Simulation(mesh_, ope2, loading)"
   ]
  },
  {
   "cell_type": "code",
   "execution_count": 9,
   "id": "7eacd843-7b00-475c-b175-150768df86cc",
   "metadata": {},
   "outputs": [],
   "source": [
    "from_data_b2p = True\n",
    "\n",
    "if from_data_b2p:\n",
    "    s1 = 'FOM_b2p'\n",
    "    s = s1 + '_' + geometry\n",
    "    freqvec, PavFOM2 = import_frequency_sweep(s)\n",
    "else :\n",
    "    PavFOM1 = simu2.FOM(freqvec)\n",
    "    s1 = 'FOM_b2p'\n",
    "    s = s1 + '_' + geometry\n",
    "    store_results(s, freqvec, PavFOM1)"
   ]
  },
  {
   "cell_type": "code",
   "execution_count": 10,
   "id": "f188b322-53b6-4713-8306-71ec79056acd",
   "metadata": {},
   "outputs": [
    {
     "name": "stdout",
     "output_type": "stream",
     "text": [
      "WCAWE CPU time  : 44.15107583999634\n",
      "SVD CPU time  : 0.00021076202392578125\n"
     ]
    },
    {
     "name": "stderr",
     "output_type": "stream",
     "text": [
      "100%|█████████████████████████████████████████████████████████████████████████████████████████████| 97/97 [00:15<00:00,  6.32it/s]"
     ]
    },
    {
     "name": "stdout",
     "output_type": "stream",
     "text": [
      "Whole CPU time  : 59.50696539878845\n"
     ]
    },
    {
     "name": "stderr",
     "output_type": "stream",
     "text": [
      "\n"
     ]
    }
   ],
   "source": [
    "N    = 20\n",
    "f_0  = 1000\n",
    "t1   = time()\n",
    "Vn   = simu2.wcawe(N, f_0)\n",
    "t2   = time()\n",
    "print(f'WCAWE CPU time  : {t2 -t1}')\n",
    "\n",
    "Vn = SVD_ortho(Vn)\n",
    "t3 = time()\n",
    "print(f'SVD CPU time  : {t3 -t2}')\n",
    "\n",
    "PavWCAWE = simu2.moment_matching_MOR(Vn, freqvec)\n",
    "t4       = time()\n",
    "print(f'Whole CPU time  : {t4 -t1}')"
   ]
  },
  {
   "cell_type": "code",
   "execution_count": 11,
   "id": "14422474-dc5c-45c6-aa7b-404d69bb1478",
   "metadata": {},
   "outputs": [
    {
     "data": {
      "text/plain": [
       "(0.0, 1.5)"
      ]
     },
     "execution_count": 11,
     "metadata": {},
     "output_type": "execute_result"
    },
    {
     "data": {
      "image/png": "[encoded data removed]",
      "text/plain": [
       "<Figure size 640x480 with 1 Axes>"
      ]
     },
     "metadata": {},
     "output_type": "display_data"
    }
   ],
   "source": [
    "fig, ax = plt.subplots()\n",
    "simu1.plot_radiation_factor(ax, freqvec, PavFOM2, s = 'FOM_b2p')\n",
    "simu1.plot_radiation_factor(ax, freqvec, PavWCAWE, s = 'WCAWE')\n",
    "ax.set_ylim(0, 1.5)"
   ]
  },
  {
   "cell_type": "code",
   "execution_count": null,
   "id": "8b8833bb-e87d-47f6-a7e0-6158075edb82",
   "metadata": {},
   "outputs": [],
   "source": []
  }
 ],
 "metadata": {
  "kernelspec": {
   "display_name": "Python 3 (ipykernel)",
   "language": "python",
   "name": "python3"
  },
  "language_info": {
   "codemirror_mode": {
    "name": "ipython",
    "version": 3
   },
   "file_extension": ".py",
   "mimetype": "text/x-python",
   "name": "python",
   "nbconvert_exporter": "python",
   "pygments_lexer": "ipython3",
   "version": "3.10.6"
  }
 },
 "nbformat": 4,
 "nbformat_minor": 5
}
