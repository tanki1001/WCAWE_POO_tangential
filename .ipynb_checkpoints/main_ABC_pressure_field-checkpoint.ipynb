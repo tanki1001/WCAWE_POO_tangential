{
 "cells": [
  {
   "cell_type": "code",
   "execution_count": 1,
   "id": "2ed38311-03bc-46ad-b34e-da730b27a924",
   "metadata": {},
   "outputs": [],
   "source": [
    "import numpy as np\n",
    "from scipy import special\n",
    "from geometries import cubic_domain, spherical_domain, half_cubic_domain, broken_cubic_domain\n",
    "from operators import fonction_spaces, solve_, solve_WCAWE, integral_mesure, z_f_matrices_b1p_withDiff, z_f_matrices_b2p_withDiff, basis_N_WCAWE, Zn_Fn_matrices, reduced_solution, check_ortho\n",
    "from postprocess import relative_errZ,import_FOM_result\n",
    "from dolfinx.fem import (form, Function, FunctionSpace, petsc)\n",
    "import petsc4py\n",
    "from petsc4py import PETSc\n",
    "import matplotlib.pyplot as plt\n",
    "from time import time\n",
    "from tqdm import tqdm\n"
   ]
  },
  {
   "cell_type": "code",
   "execution_count": 2,
   "id": "4f812f90-a1cf-49ea-9b71-4f300807992c",
   "metadata": {},
   "outputs": [
    {
     "data": {
      "application/vnd.jupyter.widget-view+json": {
       "model_id": "281827b6ee19481a9f022bbf85688d41",
       "version_major": 2,
       "version_minor": 0
      },
      "text/plain": [
       "Widget(value='<iframe id=\"pyvista-jupyter_trame__template_P_0x7fffb0bc0af0_0\" src=\"http://127.0.0.1:8888/trame…"
      ]
     },
     "metadata": {},
     "output_type": "display_data"
    }
   ],
   "source": [
    "\n",
    "if True:\n",
    "    import pyvista as pv\n",
    "    #pv.start_xvfb()\n",
    "    pv.set_jupyter_backend('client')\n",
    "    sphere = pv.Sphere()\n",
    "    \n",
    "    # short example\n",
    "    sphere.plot(jupyter_backend='client')\n"
   ]
  },
  {
   "cell_type": "code",
   "execution_count": 3,
   "id": "fbda1a0c-ba8c-452c-a5fe-b14401ff3c13",
   "metadata": {
    "editable": true,
    "slideshow": {
     "slide_type": ""
    },
    "tags": []
   },
   "outputs": [],
   "source": [
    "from operators_POO import Mesh, B1p, Loading, Simulation, SVD_ortho, SVD_ortho2, check_ortho, import_frequency_sweep\n",
    "\n",
    "geometry1 = 'spherical'\n",
    "geometry2 = 'large'\n",
    "geometry  = geometry1 + '_'+ geometry2\n",
    "\n",
    "if   geometry2 == 'small':\n",
    "    side_box = 0.11\n",
    "    lc       = 8e-3\n",
    "elif geometry2 == 'large':\n",
    "    side_box = 0.40\n",
    "    lc       = 2e-2\n",
    "else :\n",
    "    print(\"Enter your own side_box and mesh size in the code\")\n",
    "    side_box = 0.40\n",
    "    lc       = 1e-2 #Typical mesh size : Small case : 8e-3 Large case : 2e-3\n",
    "\n",
    "radius   = 0.1\n",
    "\n",
    "rho0 = 1.21\n",
    "c0   = 343.8"
   ]
  },
  {
   "cell_type": "code",
   "execution_count": 4,
   "id": "df1aad4d-8d09-4ce2-b259-6296b8d7944c",
   "metadata": {},
   "outputs": [
    {
     "name": "stdout",
     "output_type": "stream",
     "text": [
      "Info    : Meshing 1D...\n",
      "Info    : [  0%] Meshing curve 1 (Line)\n",
      "Info    : [ 20%] Meshing curve 2 (Line)\n",
      "Info    : [ 30%] Meshing curve 3 (Circle)\n",
      "Info    : [ 40%] Meshing curve 4 (Line)\n",
      "Info    : [ 50%] Meshing curve 5 (Line)\n",
      "Info    : [ 60%] Meshing curve 6 (Circle)\n",
      "Info    : [ 70%] Meshing curve 7 (Circle)\n",
      "Info    : [ 80%] Meshing curve 8 (Line)\n",
      "Info    : [ 90%] Meshing curve 9 (Circle)\n",
      "Info    : Done meshing 1D (Wall 0.00265133s, CPU 0.003441s)\n",
      "Info    : Meshing 2D...\n",
      "Info    : [  0%] Meshing surface 1 (Plane, Frontal-Delaunay)\n",
      "Info    : [ 20%] Meshing surface 2 (Plane, Frontal-Delaunay)\n",
      "Info    : [ 40%] Meshing surface 3 (Plane, Frontal-Delaunay)\n",
      "Info    : [ 60%] Meshing surface 4 (Plane, Frontal-Delaunay)\n",
      "Info    : [ 80%] Meshing surface 5 (Surface, Frontal-Delaunay)\n",
      "Info    : Done meshing 2D (Wall 0.0695943s, CPU 0.06885s)\n",
      "Info    : Meshing 3D...\n",
      "Info    : 3D Meshing 1 volume with 1 connected component\n",
      "Info    : Tetrahedrizing 1945 nodes...\n",
      "Info    : Done tetrahedrizing 1953 nodes (Wall 0.0158486s, CPU 0.013829s)\n",
      "Info    : Reconstructing mesh...\n",
      "Info    :  - Creating surface mesh\n",
      "Info    :  - Identifying boundary edges\n",
      "Info    :  - Recovering boundary\n",
      "Info    : Done reconstructing mesh (Wall 0.0356125s, CPU 0.032767s)\n",
      "Info    : Found volume 1\n",
      "Info    : It. 0 - 0 nodes created - worst tet radius 7.41038 (nodes removed 0 0)\n",
      "Info    : It. 500 - 500 nodes created - worst tet radius 1.55863 (nodes removed 0 0)\n",
      "Info    : It. 1000 - 1000 nodes created - worst tet radius 1.28453 (nodes removed 0 0)\n",
      "Info    : It. 1500 - 1500 nodes created - worst tet radius 1.13157 (nodes removed 0 0)\n",
      "Info    : It. 2000 - 2000 nodes created - worst tet radius 1.04279 (nodes removed 0 0)\n",
      "Info    : 3D refinement terminated (4237 nodes total):\n",
      "Info    :  - 0 Delaunay cavities modified for star shapeness\n",
      "Info    :  - 0 nodes could not be inserted\n",
      "Info    :  - 20442 tetrahedra created in 0.0621417 sec. (328957 tets/s)\n",
      "Info    : Done meshing 3D (Wall 0.132032s, CPU 0.129325s)\n",
      "Info    : Optimizing mesh...\n",
      "Info    : Optimizing volume 1\n",
      "Info    : Optimization starts (volume = 0.033481) with worst = 0.0214395 / average = 0.774051:\n",
      "Info    : 0.00 < quality < 0.10 :        47 elements\n",
      "Info    : 0.10 < quality < 0.20 :       147 elements\n",
      "Info    : 0.20 < quality < 0.30 :       232 elements\n",
      "Info    : 0.30 < quality < 0.40 :       353 elements\n",
      "Info    : 0.40 < quality < 0.50 :       562 elements\n",
      "Info    : 0.50 < quality < 0.60 :       946 elements\n",
      "Info    : 0.60 < quality < 0.70 :      2208 elements\n",
      "Info    : 0.70 < quality < 0.80 :      4945 elements\n",
      "Info    : 0.80 < quality < 0.90 :      7528 elements\n",
      "Info    : 0.90 < quality < 1.00 :      3473 elements\n",
      "Info    : 423 edge swaps, 15 node relocations (volume = 0.033481): worst = 0.246901 / average = 0.787346 (Wall 0.00610304s, CPU 0.006183s)\n",
      "Info    : 424 edge swaps, 15 node relocations (volume = 0.033481): worst = 0.246901 / average = 0.787375 (Wall 0.00698942s, CPU 0.007081s)\n",
      "Info    : No ill-shaped tets in the mesh :-)\n",
      "Info    : 0.00 < quality < 0.10 :         0 elements\n",
      "Info    : 0.10 < quality < 0.20 :         0 elements\n",
      "Info    : 0.20 < quality < 0.30 :         1 elements\n",
      "Info    : 0.30 < quality < 0.40 :       351 elements\n",
      "Info    : 0.40 < quality < 0.50 :       522 elements\n",
      "Info    : 0.50 < quality < 0.60 :       920 elements\n",
      "Info    : 0.60 < quality < 0.70 :      2210 elements\n",
      "Info    : 0.70 < quality < 0.80 :      4990 elements\n",
      "Info    : 0.80 < quality < 0.90 :      7610 elements\n",
      "Info    : 0.90 < quality < 1.00 :      3452 elements\n",
      "Info    : Done optimizing mesh (Wall 0.0186331s, CPU 0.019715s)\n",
      "Info    : 4237 nodes 24113 elements\n",
      "Info    : Writing 'no_name.msh'...\n",
      "Info    : Done writing 'no_name.msh'\n"
     ]
    }
   ],
   "source": [
    "if   geometry1 == 'cubic':\n",
    "    geo_fct = cubic_domain\n",
    "elif geometry1 == 'spherical':\n",
    "    geo_fct = spherical_domain\n",
    "elif geometry1 == 'half_cubic':\n",
    "    geo_fct = half_cubic_domain\n",
    "elif geometry1 == 'broken_cubic':\n",
    "    geo_fct = broken_cubic_domain\n",
    "else :\n",
    "    print(\"WARNING : May you choose an implemented geometry\")\n",
    "\n",
    "mesh_   = Mesh(1, side_box, radius, lc, geo_fct)\n",
    "loading = Loading(mesh_)"
   ]
  },
  {
   "cell_type": "code",
   "execution_count": 5,
   "id": "999a2cf5-af96-4b93-8292-537fdcebd560",
   "metadata": {},
   "outputs": [],
   "source": [
    "from operators_POO import B1p\n",
    "\n",
    "ope1  = B1p(mesh_)\n",
    "simu1 = Simulation(mesh_, ope1, loading)"
   ]
  },
  {
   "cell_type": "code",
   "execution_count": 6,
   "id": "c058334a-68eb-4c24-bbef-7125f36ba05a",
   "metadata": {
    "editable": true,
    "slideshow": {
     "slide_type": ""
    },
    "tags": []
   },
   "outputs": [],
   "source": [
    "freq = 1300\n",
    "import pyvista\n",
    "from operators_POO import harry_plotter"
   ]
  },
  {
   "cell_type": "code",
   "execution_count": 7,
   "id": "9d450d13-5e0d-473e-8b38-14551bc596a0",
   "metadata": {},
   "outputs": [
    {
     "name": "stdout",
     "output_type": "stream",
     "text": [
      "Singular frequency\n"
     ]
    },
    {
     "data": {
      "application/vnd.jupyter.widget-view+json": {
       "model_id": "676f5ddca0494f4bb88e187da9b7e20d",
       "version_major": 2,
       "version_minor": 0
      },
      "text/plain": [
       "Widget(value='<iframe id=\"pyvista-jupyter_trame__template_P_0x7fffa52a8c40_1\" src=\"http://127.0.0.1:8888/trame…"
      ]
     },
     "metadata": {},
     "output_type": "display_data"
    },
    {
     "data": {
      "application/vnd.jupyter.widget-view+json": {
       "model_id": "709ba3a12e29492ab968848ad51cd6e5",
       "version_major": 2,
       "version_minor": 0
      },
      "text/plain": [
       "Widget(value='<iframe id=\"pyvista-jupyter_trame__template_P_0x7fffa52aab00_2\" src=\"http://127.0.0.1:8888/trame…"
      ]
     },
     "metadata": {},
     "output_type": "display_data"
    }
   ],
   "source": [
    "pyvista.start_xvfb()\n",
    "pyvista.set_jupyter_backend('client')\n",
    "Psol1, Qsol1 = simu1.FOM(freq, frequency_sweep = False)\n",
    "P, Q         = simu1.mesh.fonction_spaces()\n",
    "harry_plotter(P, Psol1, 'P', show_edges = False)\n",
    "harry_plotter(Q, Qsol1, 'Q', show_edges = True)"
   ]
  },
  {
   "cell_type": "code",
   "execution_count": 8,
   "id": "bb8787b6-4001-4ca7-b4e9-43636c0dfffa",
   "metadata": {},
   "outputs": [],
   "source": [
    "from operators_POO import B2p\n",
    "mesh_.set_deg(2)\n",
    "\n",
    "ope2    = B2p(mesh_)\n",
    "loading = Loading(mesh_)\n",
    "simu2   = Simulation(mesh_, ope2, loading)"
   ]
  },
  {
   "cell_type": "code",
   "execution_count": 9,
   "id": "f232d93b-625a-4f28-bed8-369bbc372753",
   "metadata": {},
   "outputs": [
    {
     "name": "stdout",
     "output_type": "stream",
     "text": [
      "Singular frequency\n"
     ]
    },
    {
     "data": {
      "application/vnd.jupyter.widget-view+json": {
       "model_id": "80d6bd2d695746f8a7e5b3c41071fbc6",
       "version_major": 2,
       "version_minor": 0
      },
      "text/plain": [
       "Widget(value='<iframe id=\"pyvista-jupyter_trame__template_P_0x7fffa564a8c0_3\" src=\"http://127.0.0.1:8888/trame…"
      ]
     },
     "metadata": {},
     "output_type": "display_data"
    },
    {
     "data": {
      "application/vnd.jupyter.widget-view+json": {
       "model_id": "800cffd925114f028fc98b0045ab9b2f",
       "version_major": 2,
       "version_minor": 0
      },
      "text/plain": [
       "Widget(value='<iframe id=\"pyvista-jupyter_trame__template_P_0x7fffa515a170_4\" src=\"http://127.0.0.1:8888/trame…"
      ]
     },
     "metadata": {},
     "output_type": "display_data"
    }
   ],
   "source": [
    "pyvista.start_xvfb()\n",
    "pyvista.set_jupyter_backend('client')\n",
    "Psol1, Qsol1 = simu2.FOM(freq, frequency_sweep = False)\n",
    "P, Q = simu2.mesh.fonction_spaces()\n",
    "harry_plotter(P, Psol1, 'P', show_edges = False)\n",
    "harry_plotter(Q, Qsol1, 'Q', show_edges = True)"
   ]
  },
  {
   "cell_type": "code",
   "execution_count": null,
   "id": "8b8833bb-e87d-47f6-a7e0-6158075edb82",
   "metadata": {},
   "outputs": [],
   "source": []
  },
  {
   "cell_type": "code",
   "execution_count": null,
   "id": "577d80f3-ddf7-4bc8-a8a1-fe3a4618706b",
   "metadata": {},
   "outputs": [],
   "source": []
  }
 ],
 "metadata": {
  "kernelspec": {
   "display_name": "Python 3 (ipykernel)",
   "language": "python",
   "name": "python3"
  },
  "language_info": {
   "codemirror_mode": {
    "name": "ipython",
    "version": 3
   },
   "file_extension": ".py",
   "mimetype": "text/x-python",
   "name": "python",
   "nbconvert_exporter": "python",
   "pygments_lexer": "ipython3",
   "version": "3.10.6"
  }
 },
 "nbformat": 4,
 "nbformat_minor": 5
}
