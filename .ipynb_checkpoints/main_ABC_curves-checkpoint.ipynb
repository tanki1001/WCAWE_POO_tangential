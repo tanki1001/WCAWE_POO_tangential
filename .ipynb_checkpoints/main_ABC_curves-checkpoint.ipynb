{
 "cells": [
  {
   "cell_type": "code",
   "execution_count": 1,
   "id": "2ed38311-03bc-46ad-b34e-da730b27a924",
   "metadata": {},
   "outputs": [],
   "source": [
    "import numpy as np\n",
    "from scipy import special\n",
    "from geometries import cubic_domain, spherical_domain, half_cubic_domain, broken_cubic_domain\n",
    "from postprocess import relative_errZ,import_FOM_result\n",
    "from dolfinx.fem import (form, Function, FunctionSpace, petsc)\n",
    "import petsc4py\n",
    "from petsc4py import PETSc\n",
    "import matplotlib.pyplot as plt\n",
    "from time import time\n",
    "from tqdm import tqdm\n"
   ]
  },
  {
   "cell_type": "code",
   "execution_count": 2,
   "id": "40224f74-546d-45bc-b6c3-5cdb1a2b59bc",
   "metadata": {
    "editable": true,
    "slideshow": {
     "slide_type": ""
    },
    "tags": []
   },
   "outputs": [],
   "source": [
    "from operators_POO import Mesh, B1p, Loading, Simulation, import_frequency_sweep\n",
    "\n",
    "geometry1 = 'spherical'\n",
    "geometry2 = 'large'\n",
    "geometry  = geometry1 + '_'+ geometry2\n",
    "\n",
    "if   geometry2 == 'small':\n",
    "    side_box = 0.11\n",
    "    lc       = 8e-3\n",
    "elif geometry2 == 'large':\n",
    "    side_box = 0.40\n",
    "    lc       = 2e-2\n",
    "else :\n",
    "    print(\"Enter your own side_box and mesh size in the code\")\n",
    "    side_box = 0.40\n",
    "    lc       = 1e-2 #Typical mesh size : Small case : 8e-3 Large case : 2e-2\n",
    "\n",
    "from_data_b1p = True\n",
    "from_data_b2p = True\n",
    "\n",
    "radius = 0.1\n",
    "\n",
    "rho0 = 1.21\n",
    "c0   = 343.8\n",
    "\n",
    "freqvec = np.arange(80, 2001, 20)"
   ]
  },
  {
   "cell_type": "code",
   "execution_count": 3,
   "id": "9b543721-567d-469d-a1e8-0d024b38d781",
   "metadata": {},
   "outputs": [],
   "source": [
    "from operators_POO import import_COMSOL_result\n",
    "\n",
    "comsol_data = True\n",
    "\n",
    "if comsol_data:\n",
    "    s = geometry\n",
    "    frequency, results = import_COMSOL_result(s)"
   ]
  },
  {
   "cell_type": "code",
   "execution_count": 4,
   "id": "a0047c3f-b931-4ee5-a3c6-ce9d45bc7630",
   "metadata": {},
   "outputs": [
    {
     "name": "stdout",
     "output_type": "stream",
     "text": [
      "Info    : Meshing 1D...\n",
      "Info    : [  0%] Meshing curve 1 (Line)\n",
      "Info    : [ 20%] Meshing curve 2 (Line)\n",
      "Info    : [ 30%] Meshing curve 3 (Circle)\n",
      "Info    : [ 40%] Meshing curve 4 (Line)\n",
      "Info    : [ 50%] Meshing curve 5 (Line)\n",
      "Info    : [ 60%] Meshing curve 6 (Circle)\n",
      "Info    : [ 70%] Meshing curve 7 (Circle)\n",
      "Info    : [ 80%] Meshing curve 8 (Line)\n",
      "Info    : [ 90%] Meshing curve 9 (Circle)\n",
      "Info    : Done meshing 1D (Wall 0.00253s, CPU 0.002265s)\n",
      "Info    : Meshing 2D...\n",
      "Info    : [  0%] Meshing surface 1 (Plane, Frontal-Delaunay)\n",
      "Info    : [ 20%] Meshing surface 2 (Plane, Frontal-Delaunay)\n",
      "Info    : [ 40%] Meshing surface 3 (Plane, Frontal-Delaunay)\n",
      "Info    : [ 60%] Meshing surface 4 (Plane, Frontal-Delaunay)\n",
      "Info    : [ 80%] Meshing surface 5 (Surface, Frontal-Delaunay)\n",
      "Info    : Done meshing 2D (Wall 0.0652176s, CPU 0.065348s)\n",
      "Info    : Meshing 3D...\n",
      "Info    : 3D Meshing 1 volume with 1 connected component\n",
      "Info    : Tetrahedrizing 1945 nodes...\n",
      "Info    : Done tetrahedrizing 1953 nodes (Wall 0.0153486s, CPU 0.015365s)\n",
      "Info    : Reconstructing mesh...\n",
      "Info    :  - Creating surface mesh\n",
      "Info    :  - Identifying boundary edges\n",
      "Info    :  - Recovering boundary\n",
      "Info    : Done reconstructing mesh (Wall 0.033944s, CPU 0.033102s)\n",
      "Info    : Found volume 1\n",
      "Info    : It. 0 - 0 nodes created - worst tet radius 7.41038 (nodes removed 0 0)\n",
      "Info    : It. 500 - 500 nodes created - worst tet radius 1.55863 (nodes removed 0 0)\n",
      "Info    : It. 1000 - 1000 nodes created - worst tet radius 1.28453 (nodes removed 0 0)\n",
      "Info    : It. 1500 - 1500 nodes created - worst tet radius 1.13157 (nodes removed 0 0)\n",
      "Info    : It. 2000 - 2000 nodes created - worst tet radius 1.04279 (nodes removed 0 0)\n",
      "Info    : 3D refinement terminated (4237 nodes total):\n",
      "Info    :  - 0 Delaunay cavities modified for star shapeness\n",
      "Info    :  - 0 nodes could not be inserted\n",
      "Info    :  - 20442 tetrahedra created in 0.061548 sec. (332131 tets/s)\n",
      "Info    : Done meshing 3D (Wall 0.128394s, CPU 0.127776s)\n",
      "Info    : Optimizing mesh...\n",
      "Info    : Optimizing volume 1\n",
      "Info    : Optimization starts (volume = 0.033481) with worst = 0.0214395 / average = 0.774051:\n",
      "Info    : 0.00 < quality < 0.10 :        47 elements\n",
      "Info    : 0.10 < quality < 0.20 :       147 elements\n",
      "Info    : 0.20 < quality < 0.30 :       232 elements\n",
      "Info    : 0.30 < quality < 0.40 :       353 elements\n",
      "Info    : 0.40 < quality < 0.50 :       562 elements\n",
      "Info    : 0.50 < quality < 0.60 :       946 elements\n",
      "Info    : 0.60 < quality < 0.70 :      2208 elements\n",
      "Info    : 0.70 < quality < 0.80 :      4945 elements\n",
      "Info    : 0.80 < quality < 0.90 :      7528 elements\n",
      "Info    : 0.90 < quality < 1.00 :      3473 elements\n",
      "Info    : 423 edge swaps, 15 node relocations (volume = 0.033481): worst = 0.246901 / average = 0.787346 (Wall 0.00599925s, CPU 0.006249s)\n",
      "Info    : 424 edge swaps, 15 node relocations (volume = 0.033481): worst = 0.246901 / average = 0.787375 (Wall 0.0068765s, CPU 0.007147s)\n",
      "Info    : No ill-shaped tets in the mesh :-)\n",
      "Info    : 0.00 < quality < 0.10 :         0 elements\n",
      "Info    : 0.10 < quality < 0.20 :         0 elements\n",
      "Info    : 0.20 < quality < 0.30 :         1 elements\n",
      "Info    : 0.30 < quality < 0.40 :       351 elements\n",
      "Info    : 0.40 < quality < 0.50 :       522 elements\n",
      "Info    : 0.50 < quality < 0.60 :       920 elements\n",
      "Info    : 0.60 < quality < 0.70 :      2210 elements\n",
      "Info    : 0.70 < quality < 0.80 :      4990 elements\n",
      "Info    : 0.80 < quality < 0.90 :      7610 elements\n",
      "Info    : 0.90 < quality < 1.00 :      3452 elements\n",
      "Info    : Done optimizing mesh (Wall 0.0176828s, CPU 0.018626s)\n",
      "Info    : 4237 nodes 24113 elements\n",
      "Info    : Writing 'no_name.msh'...\n",
      "Info    : Done writing 'no_name.msh'\n"
     ]
    }
   ],
   "source": [
    "if   geometry1 == 'cubic':\n",
    "    geo_fct = cubic_domain\n",
    "elif geometry1 == 'spherical':\n",
    "    geo_fct = spherical_domain\n",
    "elif geometry1 == 'half_cubic':\n",
    "    geo_fct = half_cubic_domain\n",
    "elif geometry1 == 'broken_cubic':\n",
    "    geo_fct = broken_cubic_domain\n",
    "else :\n",
    "    print(\"WARNING : May you choose an implemented geometry\")\n",
    "\n",
    "mesh_   = Mesh(1, side_box, radius, lc, geo_fct)\n",
    "loading = Loading(mesh_)"
   ]
  },
  {
   "cell_type": "code",
   "execution_count": 5,
   "id": "999a2cf5-af96-4b93-8292-537fdcebd560",
   "metadata": {},
   "outputs": [],
   "source": [
    "from operators_POO import B1p\n",
    "ope1           = B1p(mesh_)\n",
    "list_coeff_Z_j = ope1.deriv_coeff_Z(0)\n",
    "simu1 = Simulation(mesh_, ope1, loading)"
   ]
  },
  {
   "cell_type": "code",
   "execution_count": 6,
   "id": "ccc14609-2085-45a5-a4ba-fe040b252878",
   "metadata": {
    "editable": true,
    "slideshow": {
     "slide_type": ""
    },
    "tags": []
   },
   "outputs": [],
   "source": [
    "from operators_POO import store_results\n",
    "#ope1.import_matrix(freq = 2000)\n",
    "if from_data_b1p:\n",
    "    s1 = 'FOM_b1p'\n",
    "    s = s1 + '_' + geometry\n",
    "    freqvec1, PavFOM1 = import_frequency_sweep(s)\n",
    "else :\n",
    "    PavFOM1 = simu1.FOM(freqvec)\n",
    "    s1 = 'FOM_b1p'\n",
    "    s = s1 + '_' + geometry\n",
    "    freqvec1 = freqvec\n",
    "    store_results(s, freqvec, PavFOM1)"
   ]
  },
  {
   "cell_type": "code",
   "execution_count": 7,
   "id": "964e15e2-04b1-45e3-95df-3ca1d94320a2",
   "metadata": {},
   "outputs": [],
   "source": [
    "#print(PavFOM1)"
   ]
  },
  {
   "cell_type": "code",
   "execution_count": 8,
   "id": "bb8787b6-4001-4ca7-b4e9-43636c0dfffa",
   "metadata": {},
   "outputs": [
    {
     "name": "stdout",
     "output_type": "stream",
     "text": [
      "u : [(grad((grad(v_1))[0]))[0], (grad((grad(v_1))[1]))[1], (grad((grad(v_1))[2]))[2]]\n",
      "proj_u : { A | A_{i_{10}} = sum_{i_{11}} ([(grad((grad(v_1))[0]))[0], (grad((grad(v_1))[1]))[1], (grad((grad(v_1))[2]))[2]])[i_{11}] * (I + ({ A | A_{i_8, i_9} = -1 * ((n) (X) (n))[i_8, i_9] }))[i_{10}, i_{11}]  }\n"
     ]
    }
   ],
   "source": [
    "from operators_POO import B2p_cubic_specific\n",
    "\n",
    "mesh_.set_deg(2)\n",
    "\n",
    "ope2spe   = B2p_cubic_specific(mesh_)\n",
    "loading   = Loading(mesh_)\n",
    "simu2spe  = Simulation(mesh_, ope2spe, loading)"
   ]
  },
  {
   "cell_type": "code",
   "execution_count": 9,
   "id": "7ee26ec2-9489-4e2e-9863-68a899ac9a52",
   "metadata": {},
   "outputs": [
    {
     "name": "stdout",
     "output_type": "stream",
     "text": [
      "Frequency sweep\n"
     ]
    },
    {
     "name": "stderr",
     "output_type": "stream",
     "text": [
      "  0%|                                                    | 0/51 [00:00<?, ?it/s]\n"
     ]
    },
    {
     "ename": "RuntimeError",
     "evalue": "Domain cell and ufl element cell not compatible for cell integral",
     "output_type": "error",
     "traceback": [
      "\u001b[0;31m---------------------------------------------------------------------------\u001b[0m",
      "\u001b[0;31mRuntimeError\u001b[0m                              Traceback (most recent call last)",
      "Cell \u001b[0;32mIn[9], line 9\u001b[0m\n\u001b[1;32m      7\u001b[0m \u001b[38;5;28;01melse\u001b[39;00m :\n\u001b[1;32m      8\u001b[0m     freqvec2spe \u001b[38;5;241m=\u001b[39m np\u001b[38;5;241m.\u001b[39marange(\u001b[38;5;241m1000\u001b[39m,\u001b[38;5;241m2001\u001b[39m,\u001b[38;5;241m20\u001b[39m)\n\u001b[0;32m----> 9\u001b[0m     PavFOM2spe \u001b[38;5;241m=\u001b[39m \u001b[43msimu2spe\u001b[49m\u001b[38;5;241;43m.\u001b[39;49m\u001b[43mFOM\u001b[49m\u001b[43m(\u001b[49m\u001b[43mfreqvec2spe\u001b[49m\u001b[43m)\u001b[49m\n\u001b[1;32m     10\u001b[0m     s1 \u001b[38;5;241m=\u001b[39m \u001b[38;5;124m'\u001b[39m\u001b[38;5;124mFOM_b2pspe\u001b[39m\u001b[38;5;124m'\u001b[39m\n\u001b[1;32m     11\u001b[0m     s  \u001b[38;5;241m=\u001b[39m s1 \u001b[38;5;241m+\u001b[39m \u001b[38;5;124m'\u001b[39m\u001b[38;5;124m_\u001b[39m\u001b[38;5;124m'\u001b[39m \u001b[38;5;241m+\u001b[39m geometry\n",
      "File \u001b[0;32m~/WCAWE_POO_tangential_global_tests/operators_POO.py:200\u001b[0m, in \u001b[0;36mSimulation.FOM\u001b[0;34m(self, freq, frequency_sweep)\u001b[0m\n\u001b[1;32m    198\u001b[0m \u001b[38;5;28;01mif\u001b[39;00m frequency_sweep \u001b[38;5;129;01mand\u001b[39;00m \u001b[38;5;129;01mnot\u001b[39;00m(\u001b[38;5;28misinstance\u001b[39m(freq, \u001b[38;5;28mint\u001b[39m)):\n\u001b[1;32m    199\u001b[0m     \u001b[38;5;28mprint\u001b[39m(\u001b[38;5;124m'\u001b[39m\u001b[38;5;124mFrequency sweep\u001b[39m\u001b[38;5;124m'\u001b[39m)\n\u001b[0;32m--> 200\u001b[0m     \u001b[38;5;28;01mreturn\u001b[39;00m \u001b[38;5;28;43mself\u001b[39;49m\u001b[38;5;241;43m.\u001b[39;49m\u001b[43mfreq_sweep_FOM\u001b[49m\u001b[43m(\u001b[49m\u001b[43mfreq\u001b[49m\u001b[43m)\u001b[49m\n\u001b[1;32m    201\u001b[0m \u001b[38;5;28;01melif\u001b[39;00m \u001b[38;5;28misinstance\u001b[39m(freq, \u001b[38;5;28mint\u001b[39m) \u001b[38;5;129;01mand\u001b[39;00m \u001b[38;5;129;01mnot\u001b[39;00m(frequency_sweep):\n\u001b[1;32m    202\u001b[0m     \u001b[38;5;28mprint\u001b[39m(\u001b[38;5;124m'\u001b[39m\u001b[38;5;124mSingular frequency\u001b[39m\u001b[38;5;124m'\u001b[39m)\n",
      "File \u001b[0;32m~/WCAWE_POO_tangential_global_tests/operators_POO.py:231\u001b[0m, in \u001b[0;36mSimulation.freq_sweep_FOM\u001b[0;34m(self, freqvec)\u001b[0m\n\u001b[1;32m    228\u001b[0m \u001b[38;5;28;01mfor\u001b[39;00m ii \u001b[38;5;129;01min\u001b[39;00m tqdm(\u001b[38;5;28mrange\u001b[39m(freqvec\u001b[38;5;241m.\u001b[39msize)):\n\u001b[1;32m    229\u001b[0m     freq \u001b[38;5;241m=\u001b[39m freqvec[ii]\n\u001b[0;32m--> 231\u001b[0m     Z \u001b[38;5;241m=\u001b[39m \u001b[43mope\u001b[49m\u001b[38;5;241;43m.\u001b[39;49m\u001b[43mdZj\u001b[49m\u001b[43m(\u001b[49m\u001b[43mfreq\u001b[49m\u001b[43m,\u001b[49m\u001b[43m \u001b[49m\u001b[43mlist_coeff_Z_j\u001b[49m\u001b[43m[\u001b[49m\u001b[38;5;241;43m0\u001b[39;49m\u001b[43m]\u001b[49m\u001b[43m)\u001b[49m\n\u001b[1;32m    232\u001b[0m     F \u001b[38;5;241m=\u001b[39m loading\u001b[38;5;241m.\u001b[39mdFj(freq, list_coeff_F_j[\u001b[38;5;241m0\u001b[39m])\n\u001b[1;32m    233\u001b[0m     \u001b[38;5;28;01mif\u001b[39;00m ii \u001b[38;5;241m==\u001b[39m \u001b[38;5;241m0\u001b[39m:\n",
      "File \u001b[0;32m~/WCAWE_POO_tangential_global_tests/operators_POO.py:939\u001b[0m, in \u001b[0;36mB2p_cubic_specific.dZj\u001b[0;34m(self, freq, list_coeff_Z_j)\u001b[0m\n\u001b[1;32m    936\u001b[0m a_11 \u001b[38;5;241m=\u001b[39m c_7\u001b[38;5;241m*\u001b[39mlist_Z[\u001b[38;5;241m7\u001b[39m] \u001b[38;5;241m+\u001b[39m c_8\u001b[38;5;241m*\u001b[39mlist_Z[\u001b[38;5;241m8\u001b[39m]\n\u001b[1;32m    938\u001b[0m z_00 \u001b[38;5;241m=\u001b[39m form(a_00)\n\u001b[0;32m--> 939\u001b[0m z_01 \u001b[38;5;241m=\u001b[39m \u001b[43mform\u001b[49m\u001b[43m(\u001b[49m\u001b[43ma_01\u001b[49m\u001b[43m,\u001b[49m\u001b[43m \u001b[49m\u001b[43mentity_maps\u001b[49m\u001b[38;5;241;43m=\u001b[39;49m\u001b[43mentity_maps_mesh\u001b[49m\u001b[43m)\u001b[49m\n\u001b[1;32m    940\u001b[0m z_10 \u001b[38;5;241m=\u001b[39m form(a_10, entity_maps\u001b[38;5;241m=\u001b[39mentity_maps_mesh)\n\u001b[1;32m    941\u001b[0m z_11 \u001b[38;5;241m=\u001b[39m form(a_11)\n",
      "File \u001b[0;32m/usr/local/dolfinx-real/lib/python/dist-packages/dolfinx/fem/forms.py:194\u001b[0m, in \u001b[0;36mform\u001b[0;34m(form, dtype, form_compiler_options, jit_options, entity_maps)\u001b[0m\n\u001b[1;32m    191\u001b[0m         \u001b[38;5;28;01mreturn\u001b[39;00m \u001b[38;5;28mlist\u001b[39m(\u001b[38;5;28mmap\u001b[39m(\u001b[38;5;28;01mlambda\u001b[39;00m sub_form: _create_form(sub_form), form))\n\u001b[1;32m    192\u001b[0m     \u001b[38;5;28;01mreturn\u001b[39;00m form\n\u001b[0;32m--> 194\u001b[0m \u001b[38;5;28;01mreturn\u001b[39;00m \u001b[43m_create_form\u001b[49m\u001b[43m(\u001b[49m\u001b[43mform\u001b[49m\u001b[43m)\u001b[49m\n",
      "File \u001b[0;32m/usr/local/dolfinx-real/lib/python/dist-packages/dolfinx/fem/forms.py:189\u001b[0m, in \u001b[0;36mform.<locals>._create_form\u001b[0;34m(form)\u001b[0m\n\u001b[1;32m    186\u001b[0m \u001b[38;5;250m\u001b[39m\u001b[38;5;124;03m\"\"\"Recursively convert ufl.Forms to dolfinx.fem.Form, otherwise\u001b[39;00m\n\u001b[1;32m    187\u001b[0m \u001b[38;5;124;03mreturn form argument\"\"\"\u001b[39;00m\n\u001b[1;32m    188\u001b[0m \u001b[38;5;28;01mif\u001b[39;00m \u001b[38;5;28misinstance\u001b[39m(form, ufl\u001b[38;5;241m.\u001b[39mForm):\n\u001b[0;32m--> 189\u001b[0m     \u001b[38;5;28;01mreturn\u001b[39;00m \u001b[43m_form\u001b[49m\u001b[43m(\u001b[49m\u001b[43mform\u001b[49m\u001b[43m)\u001b[49m\n\u001b[1;32m    190\u001b[0m \u001b[38;5;28;01melif\u001b[39;00m \u001b[38;5;28misinstance\u001b[39m(form, collections\u001b[38;5;241m.\u001b[39mabc\u001b[38;5;241m.\u001b[39mIterable):\n\u001b[1;32m    191\u001b[0m     \u001b[38;5;28;01mreturn\u001b[39;00m \u001b[38;5;28mlist\u001b[39m(\u001b[38;5;28mmap\u001b[39m(\u001b[38;5;28;01mlambda\u001b[39;00m sub_form: _create_form(sub_form), form))\n",
      "File \u001b[0;32m/usr/local/dolfinx-real/lib/python/dist-packages/dolfinx/fem/forms.py:152\u001b[0m, in \u001b[0;36mform.<locals>._form\u001b[0;34m(form)\u001b[0m\n\u001b[1;32m    150\u001b[0m \u001b[38;5;28;01mif\u001b[39;00m mesh \u001b[38;5;129;01mis\u001b[39;00m \u001b[38;5;28;01mNone\u001b[39;00m:\n\u001b[1;32m    151\u001b[0m     \u001b[38;5;28;01mraise\u001b[39;00m \u001b[38;5;167;01mRuntimeError\u001b[39;00m(\u001b[38;5;124m\"\u001b[39m\u001b[38;5;124mExpecting to find a Mesh in the form.\u001b[39m\u001b[38;5;124m\"\u001b[39m)\n\u001b[0;32m--> 152\u001b[0m ufcx_form, module, code \u001b[38;5;241m=\u001b[39m \u001b[43mjit\u001b[49m\u001b[38;5;241;43m.\u001b[39;49m\u001b[43mffcx_jit\u001b[49m\u001b[43m(\u001b[49m\u001b[43mmesh\u001b[49m\u001b[38;5;241;43m.\u001b[39;49m\u001b[43mcomm\u001b[49m\u001b[43m,\u001b[49m\u001b[43m \u001b[49m\u001b[43mform\u001b[49m\u001b[43m,\u001b[49m\n\u001b[1;32m    153\u001b[0m \u001b[43m                                       \u001b[49m\u001b[43mform_compiler_options\u001b[49m\u001b[38;5;241;43m=\u001b[39;49m\u001b[43mform_compiler_options\u001b[49m\u001b[43m,\u001b[49m\n\u001b[1;32m    154\u001b[0m \u001b[43m                                       \u001b[49m\u001b[43mjit_options\u001b[49m\u001b[38;5;241;43m=\u001b[39;49m\u001b[43mjit_options\u001b[49m\u001b[43m)\u001b[49m\n\u001b[1;32m    156\u001b[0m \u001b[38;5;66;03m# For each argument in form extract its function space\u001b[39;00m\n\u001b[1;32m    157\u001b[0m V \u001b[38;5;241m=\u001b[39m [arg\u001b[38;5;241m.\u001b[39mufl_function_space()\u001b[38;5;241m.\u001b[39m_cpp_object \u001b[38;5;28;01mfor\u001b[39;00m arg \u001b[38;5;129;01min\u001b[39;00m form\u001b[38;5;241m.\u001b[39marguments()]\n",
      "File \u001b[0;32m/usr/local/dolfinx-real/lib/python/dist-packages/dolfinx/jit.py:56\u001b[0m, in \u001b[0;36mmpi_jit_decorator.<locals>.mpi_jit\u001b[0;34m(comm, *args, **kwargs)\u001b[0m\n\u001b[1;32m     51\u001b[0m \u001b[38;5;129m@functools\u001b[39m\u001b[38;5;241m.\u001b[39mwraps(local_jit)\n\u001b[1;32m     52\u001b[0m \u001b[38;5;28;01mdef\u001b[39;00m \u001b[38;5;21mmpi_jit\u001b[39m(comm, \u001b[38;5;241m*\u001b[39margs, \u001b[38;5;241m*\u001b[39m\u001b[38;5;241m*\u001b[39mkwargs):\n\u001b[1;32m     53\u001b[0m \n\u001b[1;32m     54\u001b[0m     \u001b[38;5;66;03m# Just call JIT compiler when running in serial\u001b[39;00m\n\u001b[1;32m     55\u001b[0m     \u001b[38;5;28;01mif\u001b[39;00m comm\u001b[38;5;241m.\u001b[39msize \u001b[38;5;241m==\u001b[39m \u001b[38;5;241m1\u001b[39m:\n\u001b[0;32m---> 56\u001b[0m         \u001b[38;5;28;01mreturn\u001b[39;00m \u001b[43mlocal_jit\u001b[49m\u001b[43m(\u001b[49m\u001b[38;5;241;43m*\u001b[39;49m\u001b[43margs\u001b[49m\u001b[43m,\u001b[49m\u001b[43m \u001b[49m\u001b[38;5;241;43m*\u001b[39;49m\u001b[38;5;241;43m*\u001b[39;49m\u001b[43mkwargs\u001b[49m\u001b[43m)\u001b[49m\n\u001b[1;32m     58\u001b[0m     \u001b[38;5;66;03m# Default status (0 == ok, 1 == fail)\u001b[39;00m\n\u001b[1;32m     59\u001b[0m     status \u001b[38;5;241m=\u001b[39m \u001b[38;5;241m0\u001b[39m\n",
      "File \u001b[0;32m/usr/local/dolfinx-real/lib/python/dist-packages/dolfinx/jit.py:204\u001b[0m, in \u001b[0;36mffcx_jit\u001b[0;34m(ufl_object, form_compiler_options, jit_options)\u001b[0m\n\u001b[1;32m    202\u001b[0m \u001b[38;5;66;03m# Switch on type and compile, returning cffi object\u001b[39;00m\n\u001b[1;32m    203\u001b[0m \u001b[38;5;28;01mif\u001b[39;00m \u001b[38;5;28misinstance\u001b[39m(ufl_object, ufl\u001b[38;5;241m.\u001b[39mForm):\n\u001b[0;32m--> 204\u001b[0m     r \u001b[38;5;241m=\u001b[39m \u001b[43mffcx\u001b[49m\u001b[38;5;241;43m.\u001b[39;49m\u001b[43mcodegeneration\u001b[49m\u001b[38;5;241;43m.\u001b[39;49m\u001b[43mjit\u001b[49m\u001b[38;5;241;43m.\u001b[39;49m\u001b[43mcompile_forms\u001b[49m\u001b[43m(\u001b[49m\u001b[43m[\u001b[49m\u001b[43mufl_object\u001b[49m\u001b[43m]\u001b[49m\u001b[43m,\u001b[49m\u001b[43m \u001b[49m\u001b[43moptions\u001b[49m\u001b[38;5;241;43m=\u001b[39;49m\u001b[43mp_ffcx\u001b[49m\u001b[43m,\u001b[49m\u001b[43m \u001b[49m\u001b[38;5;241;43m*\u001b[39;49m\u001b[38;5;241;43m*\u001b[39;49m\u001b[43mp_jit\u001b[49m\u001b[43m)\u001b[49m\n\u001b[1;32m    205\u001b[0m \u001b[38;5;28;01melif\u001b[39;00m \u001b[38;5;28misinstance\u001b[39m(ufl_object, ufl\u001b[38;5;241m.\u001b[39mFiniteElementBase):\n\u001b[1;32m    206\u001b[0m     r \u001b[38;5;241m=\u001b[39m ffcx\u001b[38;5;241m.\u001b[39mcodegeneration\u001b[38;5;241m.\u001b[39mjit\u001b[38;5;241m.\u001b[39mcompile_elements([ufl_object], options\u001b[38;5;241m=\u001b[39mp_ffcx, \u001b[38;5;241m*\u001b[39m\u001b[38;5;241m*\u001b[39mp_jit)\n",
      "File \u001b[0;32m/usr/local/lib/python3.10/dist-packages/ffcx/codegeneration/jit.py:199\u001b[0m, in \u001b[0;36mcompile_forms\u001b[0;34m(forms, options, cache_dir, timeout, cffi_extra_compile_args, cffi_verbose, cffi_debug, cffi_libraries)\u001b[0m\n\u001b[1;32m    197\u001b[0m     \u001b[38;5;28;01mexcept\u001b[39;00m \u001b[38;5;167;01mException\u001b[39;00m:\n\u001b[1;32m    198\u001b[0m         \u001b[38;5;28;01mpass\u001b[39;00m\n\u001b[0;32m--> 199\u001b[0m     \u001b[38;5;28;01mraise\u001b[39;00m e\n\u001b[1;32m    201\u001b[0m obj, module \u001b[38;5;241m=\u001b[39m _load_objects(cache_dir, module_name, form_names)\n\u001b[1;32m    202\u001b[0m \u001b[38;5;28;01mreturn\u001b[39;00m obj, module, (decl, impl)\n",
      "File \u001b[0;32m/usr/local/lib/python3.10/dist-packages/ffcx/codegeneration/jit.py:190\u001b[0m, in \u001b[0;36mcompile_forms\u001b[0;34m(forms, options, cache_dir, timeout, cffi_extra_compile_args, cffi_verbose, cffi_debug, cffi_libraries)\u001b[0m\n\u001b[1;32m    187\u001b[0m     \u001b[38;5;28;01mfor\u001b[39;00m name \u001b[38;5;129;01min\u001b[39;00m form_names:\n\u001b[1;32m    188\u001b[0m         decl \u001b[38;5;241m+\u001b[39m\u001b[38;5;241m=\u001b[39m form_template\u001b[38;5;241m.\u001b[39mformat(name\u001b[38;5;241m=\u001b[39mname)\n\u001b[0;32m--> 190\u001b[0m     impl \u001b[38;5;241m=\u001b[39m \u001b[43m_compile_objects\u001b[49m\u001b[43m(\u001b[49m\u001b[43mdecl\u001b[49m\u001b[43m,\u001b[49m\u001b[43m \u001b[49m\u001b[43mforms\u001b[49m\u001b[43m,\u001b[49m\u001b[43m \u001b[49m\u001b[43mform_names\u001b[49m\u001b[43m,\u001b[49m\u001b[43m \u001b[49m\u001b[43mmodule_name\u001b[49m\u001b[43m,\u001b[49m\u001b[43m \u001b[49m\u001b[43mp\u001b[49m\u001b[43m,\u001b[49m\u001b[43m \u001b[49m\u001b[43mcache_dir\u001b[49m\u001b[43m,\u001b[49m\n\u001b[1;32m    191\u001b[0m \u001b[43m                            \u001b[49m\u001b[43mcffi_extra_compile_args\u001b[49m\u001b[43m,\u001b[49m\u001b[43m \u001b[49m\u001b[43mcffi_verbose\u001b[49m\u001b[43m,\u001b[49m\u001b[43m \u001b[49m\u001b[43mcffi_debug\u001b[49m\u001b[43m,\u001b[49m\u001b[43m \u001b[49m\u001b[43mcffi_libraries\u001b[49m\u001b[43m)\u001b[49m\n\u001b[1;32m    192\u001b[0m \u001b[38;5;28;01mexcept\u001b[39;00m \u001b[38;5;167;01mException\u001b[39;00m \u001b[38;5;28;01mas\u001b[39;00m e:\n\u001b[1;32m    193\u001b[0m     \u001b[38;5;28;01mtry\u001b[39;00m:\n\u001b[1;32m    194\u001b[0m         \u001b[38;5;66;03m# remove c file so that it will not timeout next time\u001b[39;00m\n",
      "File \u001b[0;32m/usr/local/lib/python3.10/dist-packages/ffcx/codegeneration/jit.py:260\u001b[0m, in \u001b[0;36m_compile_objects\u001b[0;34m(decl, ufl_objects, object_names, module_name, options, cache_dir, cffi_extra_compile_args, cffi_verbose, cffi_debug, cffi_libraries)\u001b[0m\n\u001b[1;32m    256\u001b[0m \u001b[38;5;28;01mimport\u001b[39;00m \u001b[38;5;21;01mffcx\u001b[39;00m\u001b[38;5;21;01m.\u001b[39;00m\u001b[38;5;21;01mcompiler\u001b[39;00m\n\u001b[1;32m    258\u001b[0m \u001b[38;5;66;03m# JIT uses module_name as prefix, which is needed to make names of all struct/function\u001b[39;00m\n\u001b[1;32m    259\u001b[0m \u001b[38;5;66;03m# unique across modules\u001b[39;00m\n\u001b[0;32m--> 260\u001b[0m _, code_body \u001b[38;5;241m=\u001b[39m \u001b[43mffcx\u001b[49m\u001b[38;5;241;43m.\u001b[39;49m\u001b[43mcompiler\u001b[49m\u001b[38;5;241;43m.\u001b[39;49m\u001b[43mcompile_ufl_objects\u001b[49m\u001b[43m(\u001b[49m\u001b[43mufl_objects\u001b[49m\u001b[43m,\u001b[49m\u001b[43m \u001b[49m\u001b[43mprefix\u001b[49m\u001b[38;5;241;43m=\u001b[39;49m\u001b[43mmodule_name\u001b[49m\u001b[43m,\u001b[49m\u001b[43m \u001b[49m\u001b[43moptions\u001b[49m\u001b[38;5;241;43m=\u001b[39;49m\u001b[43moptions\u001b[49m\u001b[43m)\u001b[49m\n\u001b[1;32m    262\u001b[0m ffibuilder \u001b[38;5;241m=\u001b[39m cffi\u001b[38;5;241m.\u001b[39mFFI()\n\u001b[1;32m    263\u001b[0m ffibuilder\u001b[38;5;241m.\u001b[39mset_source(module_name, code_body, include_dirs\u001b[38;5;241m=\u001b[39m[ffcx\u001b[38;5;241m.\u001b[39mcodegeneration\u001b[38;5;241m.\u001b[39mget_include_path()],\n\u001b[1;32m    264\u001b[0m                       extra_compile_args\u001b[38;5;241m=\u001b[39mcffi_extra_compile_args, libraries\u001b[38;5;241m=\u001b[39mcffi_libraries)\n",
      "File \u001b[0;32m/usr/local/lib/python3.10/dist-packages/ffcx/compiler.py:102\u001b[0m, in \u001b[0;36mcompile_ufl_objects\u001b[0;34m(ufl_objects, object_names, prefix, options, visualise)\u001b[0m\n\u001b[1;32m    100\u001b[0m \u001b[38;5;66;03m# Stage 2: intermediate representation\u001b[39;00m\n\u001b[1;32m    101\u001b[0m cpu_time \u001b[38;5;241m=\u001b[39m time()\n\u001b[0;32m--> 102\u001b[0m ir \u001b[38;5;241m=\u001b[39m \u001b[43mcompute_ir\u001b[49m\u001b[43m(\u001b[49m\u001b[43manalysis\u001b[49m\u001b[43m,\u001b[49m\u001b[43m \u001b[49m\u001b[43mobject_names\u001b[49m\u001b[43m,\u001b[49m\u001b[43m \u001b[49m\u001b[43mprefix\u001b[49m\u001b[43m,\u001b[49m\u001b[43m \u001b[49m\u001b[43moptions\u001b[49m\u001b[43m,\u001b[49m\u001b[43m \u001b[49m\u001b[43mvisualise\u001b[49m\u001b[43m)\u001b[49m\n\u001b[1;32m    103\u001b[0m _print_timing(\u001b[38;5;241m2\u001b[39m, time() \u001b[38;5;241m-\u001b[39m cpu_time)\n\u001b[1;32m    105\u001b[0m \u001b[38;5;66;03m# Stage 3: code generation\u001b[39;00m\n",
      "File \u001b[0;32m/usr/local/lib/python3.10/dist-packages/ffcx/ir/representation.py:198\u001b[0m, in \u001b[0;36mcompute_ir\u001b[0;34m(analysis, object_names, prefix, options, visualise)\u001b[0m\n\u001b[1;32m    192\u001b[0m ir_elements \u001b[38;5;241m=\u001b[39m [_compute_element_ir(e, analysis\u001b[38;5;241m.\u001b[39melement_numbers, finite_element_names)\n\u001b[1;32m    193\u001b[0m                \u001b[38;5;28;01mfor\u001b[39;00m e \u001b[38;5;129;01min\u001b[39;00m analysis\u001b[38;5;241m.\u001b[39munique_elements]\n\u001b[1;32m    195\u001b[0m ir_dofmaps \u001b[38;5;241m=\u001b[39m [_compute_dofmap_ir(e, analysis\u001b[38;5;241m.\u001b[39melement_numbers, dofmap_names)\n\u001b[1;32m    196\u001b[0m               \u001b[38;5;28;01mfor\u001b[39;00m e \u001b[38;5;129;01min\u001b[39;00m analysis\u001b[38;5;241m.\u001b[39munique_elements]\n\u001b[0;32m--> 198\u001b[0m irs \u001b[38;5;241m=\u001b[39m [_compute_integral_ir(fd, i, analysis\u001b[38;5;241m.\u001b[39melement_numbers, integral_names, finite_element_names,\n\u001b[1;32m    199\u001b[0m                             options, visualise)\n\u001b[1;32m    200\u001b[0m        \u001b[38;5;28;01mfor\u001b[39;00m (i, fd) \u001b[38;5;129;01min\u001b[39;00m \u001b[38;5;28menumerate\u001b[39m(analysis\u001b[38;5;241m.\u001b[39mform_data)]\n\u001b[1;32m    201\u001b[0m ir_integrals \u001b[38;5;241m=\u001b[39m \u001b[38;5;28mlist\u001b[39m(itertools\u001b[38;5;241m.\u001b[39mchain(\u001b[38;5;241m*\u001b[39mirs))\n\u001b[1;32m    203\u001b[0m ir_forms \u001b[38;5;241m=\u001b[39m [_compute_form_ir(fd, i, prefix, form_names, integral_names, analysis\u001b[38;5;241m.\u001b[39melement_numbers,\n\u001b[1;32m    204\u001b[0m                              finite_element_names, dofmap_names, object_names)\n\u001b[1;32m    205\u001b[0m             \u001b[38;5;28;01mfor\u001b[39;00m (i, fd) \u001b[38;5;129;01min\u001b[39;00m \u001b[38;5;28menumerate\u001b[39m(analysis\u001b[38;5;241m.\u001b[39mform_data)]\n",
      "File \u001b[0;32m/usr/local/lib/python3.10/dist-packages/ffcx/ir/representation.py:198\u001b[0m, in \u001b[0;36m<listcomp>\u001b[0;34m(.0)\u001b[0m\n\u001b[1;32m    192\u001b[0m ir_elements \u001b[38;5;241m=\u001b[39m [_compute_element_ir(e, analysis\u001b[38;5;241m.\u001b[39melement_numbers, finite_element_names)\n\u001b[1;32m    193\u001b[0m                \u001b[38;5;28;01mfor\u001b[39;00m e \u001b[38;5;129;01min\u001b[39;00m analysis\u001b[38;5;241m.\u001b[39munique_elements]\n\u001b[1;32m    195\u001b[0m ir_dofmaps \u001b[38;5;241m=\u001b[39m [_compute_dofmap_ir(e, analysis\u001b[38;5;241m.\u001b[39melement_numbers, dofmap_names)\n\u001b[1;32m    196\u001b[0m               \u001b[38;5;28;01mfor\u001b[39;00m e \u001b[38;5;129;01min\u001b[39;00m analysis\u001b[38;5;241m.\u001b[39munique_elements]\n\u001b[0;32m--> 198\u001b[0m irs \u001b[38;5;241m=\u001b[39m [\u001b[43m_compute_integral_ir\u001b[49m\u001b[43m(\u001b[49m\u001b[43mfd\u001b[49m\u001b[43m,\u001b[49m\u001b[43m \u001b[49m\u001b[43mi\u001b[49m\u001b[43m,\u001b[49m\u001b[43m \u001b[49m\u001b[43manalysis\u001b[49m\u001b[38;5;241;43m.\u001b[39;49m\u001b[43melement_numbers\u001b[49m\u001b[43m,\u001b[49m\u001b[43m \u001b[49m\u001b[43mintegral_names\u001b[49m\u001b[43m,\u001b[49m\u001b[43m \u001b[49m\u001b[43mfinite_element_names\u001b[49m\u001b[43m,\u001b[49m\n\u001b[1;32m    199\u001b[0m \u001b[43m                            \u001b[49m\u001b[43moptions\u001b[49m\u001b[43m,\u001b[49m\u001b[43m \u001b[49m\u001b[43mvisualise\u001b[49m\u001b[43m)\u001b[49m\n\u001b[1;32m    200\u001b[0m        \u001b[38;5;28;01mfor\u001b[39;00m (i, fd) \u001b[38;5;129;01min\u001b[39;00m \u001b[38;5;28menumerate\u001b[39m(analysis\u001b[38;5;241m.\u001b[39mform_data)]\n\u001b[1;32m    201\u001b[0m ir_integrals \u001b[38;5;241m=\u001b[39m \u001b[38;5;28mlist\u001b[39m(itertools\u001b[38;5;241m.\u001b[39mchain(\u001b[38;5;241m*\u001b[39mirs))\n\u001b[1;32m    203\u001b[0m ir_forms \u001b[38;5;241m=\u001b[39m [_compute_form_ir(fd, i, prefix, form_names, integral_names, analysis\u001b[38;5;241m.\u001b[39melement_numbers,\n\u001b[1;32m    204\u001b[0m                              finite_element_names, dofmap_names, object_names)\n\u001b[1;32m    205\u001b[0m             \u001b[38;5;28;01mfor\u001b[39;00m (i, fd) \u001b[38;5;129;01min\u001b[39;00m \u001b[38;5;28menumerate\u001b[39m(analysis\u001b[38;5;241m.\u001b[39mform_data)]\n",
      "File \u001b[0;32m/usr/local/lib/python3.10/dist-packages/ffcx/ir/representation.py:493\u001b[0m, in \u001b[0;36m_compute_integral_ir\u001b[0;34m(form_data, form_index, element_numbers, integral_names, finite_element_names, options, visualise)\u001b[0m\n\u001b[1;32m    490\u001b[0m integrands \u001b[38;5;241m=\u001b[39m {rule: integral\u001b[38;5;241m.\u001b[39mintegrand() \u001b[38;5;28;01mfor\u001b[39;00m rule, integral \u001b[38;5;129;01min\u001b[39;00m sorted_integrals\u001b[38;5;241m.\u001b[39mitems()}\n\u001b[1;32m    492\u001b[0m \u001b[38;5;66;03m# Build more specific intermediate representation\u001b[39;00m\n\u001b[0;32m--> 493\u001b[0m integral_ir \u001b[38;5;241m=\u001b[39m \u001b[43mcompute_integral_ir\u001b[49m\u001b[43m(\u001b[49m\u001b[43mitg_data\u001b[49m\u001b[38;5;241;43m.\u001b[39;49m\u001b[43mdomain\u001b[49m\u001b[38;5;241;43m.\u001b[39;49m\u001b[43mufl_cell\u001b[49m\u001b[43m(\u001b[49m\u001b[43m)\u001b[49m\u001b[43m,\u001b[49m\u001b[43m \u001b[49m\u001b[43mitg_data\u001b[49m\u001b[38;5;241;43m.\u001b[39;49m\u001b[43mintegral_type\u001b[49m\u001b[43m,\u001b[49m\n\u001b[1;32m    494\u001b[0m \u001b[43m                                  \u001b[49m\u001b[43mir\u001b[49m\u001b[43m[\u001b[49m\u001b[38;5;124;43m\"\u001b[39;49m\u001b[38;5;124;43mentitytype\u001b[39;49m\u001b[38;5;124;43m\"\u001b[39;49m\u001b[43m]\u001b[49m\u001b[43m,\u001b[49m\u001b[43m \u001b[49m\u001b[43mintegrands\u001b[49m\u001b[43m,\u001b[49m\u001b[43m \u001b[49m\u001b[43mir\u001b[49m\u001b[43m[\u001b[49m\u001b[38;5;124;43m\"\u001b[39;49m\u001b[38;5;124;43mtensor_shape\u001b[39;49m\u001b[38;5;124;43m\"\u001b[39;49m\u001b[43m]\u001b[49m\u001b[43m,\u001b[49m\n\u001b[1;32m    495\u001b[0m \u001b[43m                                  \u001b[49m\u001b[43mir\u001b[49m\u001b[43m[\u001b[49m\u001b[38;5;124;43m\"\u001b[39;49m\u001b[38;5;124;43mmixed_dim\u001b[39;49m\u001b[38;5;124;43m\"\u001b[39;49m\u001b[43m]\u001b[49m\u001b[43m,\u001b[49m\u001b[43m \u001b[49m\u001b[43moptions\u001b[49m\u001b[43m,\u001b[49m\u001b[43m \u001b[49m\u001b[43mvisualise\u001b[49m\u001b[43m)\u001b[49m\n\u001b[1;32m    497\u001b[0m ir\u001b[38;5;241m.\u001b[39mupdate(integral_ir)\n\u001b[1;32m    499\u001b[0m \u001b[38;5;66;03m# Fetch name\u001b[39;00m\n",
      "File \u001b[0;32m/usr/local/lib/python3.10/dist-packages/ffcx/ir/integral.py:84\u001b[0m, in \u001b[0;36mcompute_integral_ir\u001b[0;34m(cell, integral_type, entitytype, integrands, argument_shape, is_mixed_dim, p, visualise)\u001b[0m\n\u001b[1;32m     74\u001b[0m \u001b[38;5;66;03m# Build terminal_data from V here before factorization. Then we\u001b[39;00m\n\u001b[1;32m     75\u001b[0m \u001b[38;5;66;03m# can use it to derive table properties for all modified\u001b[39;00m\n\u001b[1;32m     76\u001b[0m \u001b[38;5;66;03m# terminals, and then use that to rebuild the scalar graph more\u001b[39;00m\n\u001b[1;32m     77\u001b[0m \u001b[38;5;66;03m# efficiently before argument factorization. We can build\u001b[39;00m\n\u001b[1;32m     78\u001b[0m \u001b[38;5;66;03m# terminal_data again after factorization if that's necessary.\u001b[39;00m\n\u001b[1;32m     80\u001b[0m initial_terminals \u001b[38;5;241m=\u001b[39m {i: analyse_modified_terminal(v[\u001b[38;5;124m'\u001b[39m\u001b[38;5;124mexpression\u001b[39m\u001b[38;5;124m'\u001b[39m])\n\u001b[1;32m     81\u001b[0m                      \u001b[38;5;28;01mfor\u001b[39;00m i, v \u001b[38;5;129;01min\u001b[39;00m S\u001b[38;5;241m.\u001b[39mnodes\u001b[38;5;241m.\u001b[39mitems()\n\u001b[1;32m     82\u001b[0m                      \u001b[38;5;28;01mif\u001b[39;00m is_modified_terminal(v[\u001b[38;5;124m'\u001b[39m\u001b[38;5;124mexpression\u001b[39m\u001b[38;5;124m'\u001b[39m])}\n\u001b[0;32m---> 84\u001b[0m mt_table_reference \u001b[38;5;241m=\u001b[39m \u001b[43mbuild_optimized_tables\u001b[49m\u001b[43m(\u001b[49m\n\u001b[1;32m     85\u001b[0m \u001b[43m    \u001b[49m\u001b[43mquadrature_rule\u001b[49m\u001b[43m,\u001b[49m\n\u001b[1;32m     86\u001b[0m \u001b[43m    \u001b[49m\u001b[43mcell\u001b[49m\u001b[43m,\u001b[49m\n\u001b[1;32m     87\u001b[0m \u001b[43m    \u001b[49m\u001b[43mintegral_type\u001b[49m\u001b[43m,\u001b[49m\n\u001b[1;32m     88\u001b[0m \u001b[43m    \u001b[49m\u001b[43mentitytype\u001b[49m\u001b[43m,\u001b[49m\n\u001b[1;32m     89\u001b[0m \u001b[43m    \u001b[49m\u001b[43minitial_terminals\u001b[49m\u001b[38;5;241;43m.\u001b[39;49m\u001b[43mvalues\u001b[49m\u001b[43m(\u001b[49m\u001b[43m)\u001b[49m\u001b[43m,\u001b[49m\n\u001b[1;32m     90\u001b[0m \u001b[43m    \u001b[49m\u001b[43mir\u001b[49m\u001b[43m[\u001b[49m\u001b[38;5;124;43m\"\u001b[39;49m\u001b[38;5;124;43munique_tables\u001b[39;49m\u001b[38;5;124;43m\"\u001b[39;49m\u001b[43m]\u001b[49m\u001b[43m,\u001b[49m\n\u001b[1;32m     91\u001b[0m \u001b[43m    \u001b[49m\u001b[43mis_mixed_dim\u001b[49m\u001b[43m,\u001b[49m\n\u001b[1;32m     92\u001b[0m \u001b[43m    \u001b[49m\u001b[43mrtol\u001b[49m\u001b[38;5;241;43m=\u001b[39;49m\u001b[43mp\u001b[49m\u001b[43m[\u001b[49m\u001b[38;5;124;43m\"\u001b[39;49m\u001b[38;5;124;43mtable_rtol\u001b[39;49m\u001b[38;5;124;43m\"\u001b[39;49m\u001b[43m]\u001b[49m\u001b[43m,\u001b[49m\n\u001b[1;32m     93\u001b[0m \u001b[43m    \u001b[49m\u001b[43matol\u001b[49m\u001b[38;5;241;43m=\u001b[39;49m\u001b[43mp\u001b[49m\u001b[43m[\u001b[49m\u001b[38;5;124;43m\"\u001b[39;49m\u001b[38;5;124;43mtable_atol\u001b[39;49m\u001b[38;5;124;43m\"\u001b[39;49m\u001b[43m]\u001b[49m\u001b[43m)\u001b[49m\n\u001b[1;32m     95\u001b[0m \u001b[38;5;66;03m# Fetch unique tables for this quadrature rule\u001b[39;00m\n\u001b[1;32m     96\u001b[0m table_types \u001b[38;5;241m=\u001b[39m {v\u001b[38;5;241m.\u001b[39mname: v\u001b[38;5;241m.\u001b[39mttype \u001b[38;5;28;01mfor\u001b[39;00m v \u001b[38;5;129;01min\u001b[39;00m mt_table_reference\u001b[38;5;241m.\u001b[39mvalues()}\n",
      "File \u001b[0;32m/usr/local/lib/python3.10/dist-packages/ffcx/ir/elementtables.py:382\u001b[0m, in \u001b[0;36mbuild_optimized_tables\u001b[0;34m(quadrature_rule, cell, integral_type, entitytype, modified_terminals, existing_tables, is_mixed_dim, rtol, atol)\u001b[0m\n\u001b[1;32m    380\u001b[0m             t[\u001b[38;5;124m'\u001b[39m\u001b[38;5;124marray\u001b[39m\u001b[38;5;124m'\u001b[39m] \u001b[38;5;241m=\u001b[39m np\u001b[38;5;241m.\u001b[39mvstack([td[\u001b[38;5;124m'\u001b[39m\u001b[38;5;124marray\u001b[39m\u001b[38;5;124m'\u001b[39m] \u001b[38;5;28;01mfor\u001b[39;00m td \u001b[38;5;129;01min\u001b[39;00m new_table])\n\u001b[1;32m    381\u001b[0m \u001b[38;5;28;01melse\u001b[39;00m:\n\u001b[0;32m--> 382\u001b[0m     t \u001b[38;5;241m=\u001b[39m \u001b[43mget_ffcx_table_values\u001b[49m\u001b[43m(\u001b[49m\u001b[43mquadrature_rule\u001b[49m\u001b[38;5;241;43m.\u001b[39;49m\u001b[43mpoints\u001b[49m\u001b[43m,\u001b[49m\u001b[43m \u001b[49m\u001b[43mcell\u001b[49m\u001b[43m,\u001b[49m\n\u001b[1;32m    383\u001b[0m \u001b[43m                              \u001b[49m\u001b[43mintegral_type\u001b[49m\u001b[43m,\u001b[49m\u001b[43m \u001b[49m\u001b[43melement\u001b[49m\u001b[43m,\u001b[49m\u001b[43m \u001b[49m\u001b[43mavg\u001b[49m\u001b[43m,\u001b[49m\u001b[43m \u001b[49m\u001b[43mentitytype\u001b[49m\u001b[43m,\u001b[49m\n\u001b[1;32m    384\u001b[0m \u001b[43m                              \u001b[49m\u001b[43mlocal_derivatives\u001b[49m\u001b[43m,\u001b[49m\u001b[43m \u001b[49m\u001b[43mflat_component\u001b[49m\u001b[43m,\u001b[49m\u001b[43m \u001b[49m\u001b[43mis_mixed_dim\u001b[49m\u001b[43m)\u001b[49m\n\u001b[1;32m    385\u001b[0m \u001b[38;5;66;03m# Clean up table\u001b[39;00m\n\u001b[1;32m    386\u001b[0m tbl \u001b[38;5;241m=\u001b[39m clamp_table_small_numbers(t[\u001b[38;5;124m'\u001b[39m\u001b[38;5;124marray\u001b[39m\u001b[38;5;124m'\u001b[39m], rtol\u001b[38;5;241m=\u001b[39mrtol, atol\u001b[38;5;241m=\u001b[39matol)\n",
      "File \u001b[0;32m/usr/local/lib/python3.10/dist-packages/ffcx/ir/elementtables.py:141\u001b[0m, in \u001b[0;36mget_ffcx_table_values\u001b[0;34m(points, cell, integral_type, element, avg, entitytype, derivative_counts, flat_component, is_mixed_dim)\u001b[0m\n\u001b[1;32m    139\u001b[0m     entity_points \u001b[38;5;241m=\u001b[39m np\u001b[38;5;241m.\u001b[39masarray(points)\n\u001b[1;32m    140\u001b[0m \u001b[38;5;28;01melse\u001b[39;00m:\n\u001b[0;32m--> 141\u001b[0m     \u001b[38;5;28;01mraise\u001b[39;00m \u001b[38;5;167;01mRuntimeError\u001b[39;00m(\u001b[38;5;124mf\u001b[39m\u001b[38;5;124m\"\u001b[39m\u001b[38;5;124mDomain cell and ufl element cell not compatible for \u001b[39m\u001b[38;5;132;01m{\u001b[39;00mintegral_type\u001b[38;5;132;01m}\u001b[39;00m\u001b[38;5;124m integral\u001b[39m\u001b[38;5;124m\"\u001b[39m)\n\u001b[1;32m    143\u001b[0m tbl \u001b[38;5;241m=\u001b[39m component_element\u001b[38;5;241m.\u001b[39mtabulate(deriv_order, entity_points)\n\u001b[1;32m    144\u001b[0m tbl \u001b[38;5;241m=\u001b[39m tbl[basix_index(derivative_counts)]\n",
      "\u001b[0;31mRuntimeError\u001b[0m: Domain cell and ufl element cell not compatible for cell integral"
     ]
    }
   ],
   "source": [
    "#ope2.import_matrix(freq = 2000)\n",
    "from_data_b2pspe = False\n",
    "if from_data_b2pspe:\n",
    "    s1 = 'FOM_b2pspe'\n",
    "    s  = s1 + '_' + geometry\n",
    "    freqvec2spe, PavFOM2spe = import_frequency_sweep(s)\n",
    "else :\n",
    "    freqvec2spe = np.arange(1000,2001,20)\n",
    "    PavFOM2spe = simu2spe.FOM(freqvec2spe)\n",
    "    s1 = 'FOM_b2pspe'\n",
    "    s  = s1 + '_' + geometry\n",
    "    store_results(s, freqvec2spe, PavFOM2spe)"
   ]
  },
  {
   "cell_type": "code",
   "execution_count": null,
   "id": "40eaa1fe-a554-4b70-a9b3-c019a524e295",
   "metadata": {},
   "outputs": [],
   "source": [
    "from operators_POO import B2p\n",
    "\n",
    "mesh_.set_deg(2)\n",
    "\n",
    "ope2           = B2p(mesh_)\n",
    "list_coeff_Z_j = ope2.deriv_coeff_Z(0)\n",
    "\n",
    "loading        = Loading(mesh_)\n",
    "list_coeff_F_j = loading.deriv_coeff_F(0)\n",
    "\n",
    "simu2 = Simulation(mesh_, ope2, loading)"
   ]
  },
  {
   "cell_type": "code",
   "execution_count": null,
   "id": "27460075-9998-4eb2-8610-247bb10776bb",
   "metadata": {},
   "outputs": [],
   "source": [
    "#ope2.import_matrix(freq = 2000)\n",
    "if from_data_b2p:\n",
    "    s1 = 'FOM_b2p'\n",
    "    s  = s1 + '_' + geometry\n",
    "    freqvec2, PavFOM2 = import_frequency_sweep(s)\n",
    "else :\n",
    "    freqvec2 = freqvec\n",
    "    PavFOM2 = simu2.FOM(freqvec2)\n",
    "    s1 = 'FOM_b2p'\n",
    "    s  = s1 + '_' + geometry\n",
    "    store_results(s, freqvec2, PavFOM2)"
   ]
  },
  {
   "cell_type": "code",
   "execution_count": null,
   "id": "ec77cf4b-0c17-4492-a5cf-ffd3ffed87d5",
   "metadata": {},
   "outputs": [],
   "source": [
    "print(PavFOM2)"
   ]
  },
  {
   "cell_type": "code",
   "execution_count": null,
   "id": "c8264c13-8401-49d2-9d84-3fb08e4afda2",
   "metadata": {
    "editable": true,
    "slideshow": {
     "slide_type": ""
    },
    "tags": []
   },
   "outputs": [],
   "source": []
  },
  {
   "cell_type": "code",
   "execution_count": null,
   "id": "ca921a3a-fcaf-47f9-9866-7d32913e913d",
   "metadata": {},
   "outputs": [],
   "source": [
    "from operators_POO import B3p\n",
    "\n",
    "mesh_.set_deg(2)\n",
    "\n",
    "ope3    = B3p(mesh_)\n",
    "loading = Loading(mesh_)\n",
    "\n",
    "simu3   = Simulation(mesh_, ope3, loading)\n",
    "freqvec3 = np.arange(1400, 1401, 20)\n",
    "#PavFOM3 = simu3.FOM(freqvec3)"
   ]
  },
  {
   "cell_type": "code",
   "execution_count": null,
   "id": "6d78450f-3c21-4f2c-929d-f5f102f3746b",
   "metadata": {},
   "outputs": [],
   "source": [
    "#ope3.import_matrix(freq = 2000)\n",
    "#print(PavFOM3)"
   ]
  },
  {
   "cell_type": "code",
   "execution_count": null,
   "id": "6c8edd07-ec54-45ff-b696-994319bdb9a7",
   "metadata": {},
   "outputs": [],
   "source": [
    "from operators_POO import plot_analytical_result_sigma\n",
    "\n",
    "fig, ax = plt.subplots(figsize=(16,9))\n",
    "simu1.plot_radiation_factor(ax, freqvec1, PavFOM1, s = 'FOM_b1p')\n",
    "simu2.plot_radiation_factor(ax, freqvec2, PavFOM2,  s = 'FOM_b2p')\n",
    "simu2spe.plot_radiation_factor(ax, freqvec2spe, PavFOM2spe,  s = 'FOM_b2pspe')\n",
    "if comsol_data:\n",
    "    ax.plot(frequency, results, c = 'black', label=r'$\\sigma_{COMSOL}$')\n",
    "    ax.legend()\n",
    "\n",
    "plot_analytical_result = True\n",
    "if plot_analytical_result:\n",
    "    plot_analytical_result_sigma(ax, freqvec, radius)"
   ]
  },
  {
   "cell_type": "code",
   "execution_count": null,
   "id": "00cc6231-a8d6-4214-9e2b-da90346a306f",
   "metadata": {},
   "outputs": [],
   "source": [
    "from operators_POO import least_square_err, compute_analytical_radiation_factor\n",
    "\n",
    "Z_ana = compute_analytical_radiation_factor(freqvec, radius)\n",
    "\n",
    "err_B1p = least_square_err(freqvec, Z_ana.real, freqvec1, simu1.compute_radiation_factor(freqvec1, PavFOM1).real)\n",
    "print(f'For lc = {lc} - L2_err(B1p) = {err_B1p}')\n",
    "\n",
    "err_B2p = least_square_err(freqvec, Z_ana.real, freqvec2, simu2.compute_radiation_factor(freqvec2, PavFOM2).real)\n",
    "print(f'For lc = {lc} - L2_err(B2p) = {err_B2p}')\n",
    "\n",
    "err_B2p_tang = least_square_err(freqvec, Z_ana.real, freqvec2spe, simu2spe.compute_radiation_factor(freqvec2spe, PavFOM2spe).real)\n",
    "print(f'For lc = {lc} - L2_err(err_B2p_tang) = {err_B2p_tang}')"
   ]
  },
  {
   "cell_type": "code",
   "execution_count": null,
   "id": "dd4f19ac-6106-4647-ab2d-26b836e48225",
   "metadata": {},
   "outputs": [],
   "source": []
  },
  {
   "cell_type": "code",
   "execution_count": null,
   "id": "443aee38-3db4-4516-97ec-62fe7d96925f",
   "metadata": {},
   "outputs": [],
   "source": []
  },
  {
   "cell_type": "code",
   "execution_count": null,
   "id": "078dc7d6-49c4-4ca2-bf51-f4738759b420",
   "metadata": {},
   "outputs": [],
   "source": []
  }
 ],
 "metadata": {
  "kernelspec": {
   "display_name": "Python 3 (ipykernel)",
   "language": "python",
   "name": "python3"
  },
  "language_info": {
   "codemirror_mode": {
    "name": "ipython",
    "version": 3
   },
   "file_extension": ".py",
   "mimetype": "text/x-python",
   "name": "python",
   "nbconvert_exporter": "python",
   "pygments_lexer": "ipython3",
   "version": "3.10.6"
  }
 },
 "nbformat": 4,
 "nbformat_minor": 5
}
