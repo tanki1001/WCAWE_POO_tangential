{
 "cells": [
  {
   "cell_type": "code",
   "execution_count": 1,
   "id": "554349fc-fa29-4a27-9ae7-590aa25f1ca3",
   "metadata": {},
   "outputs": [
    {
     "data": {
      "application/vnd.jupyter.widget-view+json": {
       "model_id": "f407af13b79844e58cac3ae5990f5ab9",
       "version_major": 2,
       "version_minor": 0
      },
      "text/plain": [
       "Widget(value='<iframe src=\"/proxy/33721/index.html?ui=P_0x7fffc34a9000_0&reconnect=auto\" class=\"pyvista\" style…"
      ]
     },
     "metadata": {},
     "output_type": "display_data"
    }
   ],
   "source": [
    "import pyvista as pv\n",
    "pv.start_xvfb()\n",
    "\n",
    "pv.set_jupyter_backend('client')\n",
    "\n",
    "pv.Cone().plot()\n"
   ]
  },
  {
   "cell_type": "code",
   "execution_count": 2,
   "id": "27bc7c56-667c-42ce-9c3e-23dc2a10560e",
   "metadata": {},
   "outputs": [
    {
     "data": {
      "application/vnd.jupyter.widget-view+json": {
       "model_id": "875bcec862984067be69a711d146f3ba",
       "version_major": 2,
       "version_minor": 0
      },
      "text/plain": [
       "Widget(value='<iframe src=\"/proxy/39595/index.html?ui=P_0x7ffffc79fca0_1&reconnect=auto\" class=\"pyvista\" style…"
      ]
     },
     "metadata": {},
     "output_type": "display_data"
    },
    {
     "data": {
      "application/vnd.jupyter.widget-view+json": {
       "model_id": "c2f8cca06c2a48d8ab98d6b2939ce743",
       "version_major": 2,
       "version_minor": 0
      },
      "text/plain": [
       "Widget(value='<iframe src=\"/proxy/39595/index.html?ui=P_0x7ffffc79ff10_2&reconnect=auto\" class=\"pyvista\" style…"
      ]
     },
     "metadata": {},
     "output_type": "display_data"
    }
   ],
   "source": [
    "sphere = pv.Sphere()\n",
    "\n",
    "# short example\n",
    "#sphere.plot(jupyter_backend='trame')\n",
    "sphere.plot()\n",
    "# long example\n",
    "plotter = pv.Plotter(notebook=True)\n",
    "plotter.add_mesh(sphere)\n",
    "#plotter.show(jupyter_backend='trame')\n",
    "plotter.show()"
   ]
  },
  {
   "cell_type": "code",
   "execution_count": null,
   "id": "9f4e203f-8493-43cb-b40d-221c33ef56a3",
   "metadata": {},
   "outputs": [],
   "source": []
  }
 ],
 "metadata": {
  "kernelspec": {
   "display_name": "Python 3 (ipykernel)",
   "language": "python",
   "name": "python3"
  },
  "language_info": {
   "codemirror_mode": {
    "name": "ipython",
    "version": 3
   },
   "file_extension": ".py",
   "mimetype": "text/x-python",
   "name": "python",
   "nbconvert_exporter": "python",
   "pygments_lexer": "ipython3",
   "version": "3.10.6"
  }
 },
 "nbformat": 4,
 "nbformat_minor": 5
}
