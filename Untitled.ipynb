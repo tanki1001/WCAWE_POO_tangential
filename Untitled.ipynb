{
 "cells": [
  {
   "cell_type": "code",
   "execution_count": 1,
   "id": "4b1cb36e-9f33-426b-bdbd-f9d9eabea762",
   "metadata": {},
   "outputs": [],
   "source": [
    "from mpi4py import MPI\n",
    "import gmsh\n",
    "from dolfinx.io import gmshio\n",
    "import dolfinx.mesh as msh\n",
    "import numpy as np\n",
    "from dolfinx import plot\n",
    "from dolfinx.fem import FunctionSpace, form\n",
    "from ufl import Measure, TrialFunction, TestFunction, grad, inner\n",
    "import ufl"
   ]
  },
  {
   "cell_type": "code",
   "execution_count": 2,
   "id": "72ed0220-7765-4ac6-8a1e-329922285f01",
   "metadata": {},
   "outputs": [
    {
     "name": "stdout",
     "output_type": "stream",
     "text": [
      "Info    : Meshing 1D...\n",
      "Info    : [  0%] Meshing curve 1 (Line)\n",
      "Info    : [ 30%] Meshing curve 2 (Line)\n",
      "Info    : [ 50%] Meshing curve 3 (Line)\n",
      "Info    : [ 80%] Meshing curve 4 (Line)\n",
      "Info    : Done meshing 1D (Wall 0.00209975s, CPU 0.00261s)\n",
      "Info    : Meshing 2D...\n",
      "Info    : Meshing surface 1 (Plane, Frontal-Delaunay)\n",
      "Info    : Done meshing 2D (Wall 0.0133199s, CPU 0.013381s)\n",
      "Info    : 142 nodes 286 elements\n"
     ]
    }
   ],
   "source": [
    "gmsh.initialize()\n",
    "comm = MPI.COMM_WORLD\n",
    "model_rank = 0\n",
    "model = gmsh.model()\n",
    "gmsh.model.add(\"test\")\n",
    "\n",
    "side_box = 1\n",
    "lc = 1e-1\n",
    "# Definition of the points\n",
    "p1 = gmsh.model.geo.addPoint(0, 0, 0, lc)\n",
    "p2 = gmsh.model.geo.addPoint(side_box, 0, 0, lc)\n",
    "p3 = gmsh.model.geo.addPoint(side_box, side_box, 0, lc)\n",
    "p4 = gmsh.model.geo.addPoint(0, side_box, 0, lc)\n",
    "\n",
    "l1 = gmsh.model.geo.addLine(p1, p2)\n",
    "l2 = gmsh.model.geo.addLine(p2, p3)\n",
    "l3 = gmsh.model.geo.addLine(p3, p4)\n",
    "l4 = gmsh.model.geo.addLine(p4, p1)\n",
    "\n",
    "cl1 = [l1, l2, l3, l4]\n",
    "s1 = gmsh.model.geo.addPlaneSurface([gmsh.model.geo.addCurveLoop(cl1)])\n",
    "gmsh.model.geo.synchronize()\n",
    "\n",
    "gmsh.model.addPhysicalGroup(1, [l1], tag=1)\n",
    "gmsh.model.addPhysicalGroup(2, [s1], tag=1)\n",
    "gmsh.model.mesh.generate(2)\n",
    "final_mesh, cell_tags, facet_tags = gmshio.model_to_mesh(model, comm, model_rank)\n",
    "gmsh.finalize()\n",
    "    \n",
    "tdim = final_mesh.topology.dim\n",
    "fdim = tdim - 1\n",
    "\n",
    "submesh, entity_map = msh.create_submesh(final_mesh, fdim, facet_tags.find(1))[0:2]\n"
   ]
  },
  {
   "cell_type": "code",
   "execution_count": 3,
   "id": "437530be-1bff-457a-9ac0-acfca78005dc",
   "metadata": {},
   "outputs": [],
   "source": [
    "deg    = 3\n",
    "family = \"Lagrange\"\n",
    "\n",
    "P = FunctionSpace(final_mesh, (family, deg))\n",
    "Q = FunctionSpace(submesh, (family, deg))\n",
    "\n",
    "p, q = TrialFunction(P), TrialFunction(Q)\n",
    "v, u = TestFunction(P), TestFunction(Q)\n",
    "\n",
    "dx  = Measure(\"dx\", domain=final_mesh, subdomain_data=cell_tags)\n",
    "ds  = Measure(\"ds\", domain=final_mesh, subdomain_data=facet_tags)"
   ]
  },
  {
   "cell_type": "code",
   "execution_count": 11,
   "id": "16b422d2-01ab-4265-a1e4-52fda229c725",
   "metadata": {},
   "outputs": [
    {
     "ename": "ValueError",
     "evalue": "Shapes do not match: <ListTensor id=140736276871104> and <FacetNormal id=140736277049728>",
     "output_type": "error",
     "traceback": [
      "\u001b[0;31m---------------------------------------------------------------------------\u001b[0m",
      "\u001b[0;31mValueError\u001b[0m                                Traceback (most recent call last)",
      "Cell \u001b[0;32mIn[11], line 7\u001b[0m\n\u001b[1;32m      5\u001b[0m x_y \u001b[38;5;241m=\u001b[39m ufl\u001b[38;5;241m.\u001b[39mas_tensor([x[\u001b[38;5;241m1\u001b[39m]])\n\u001b[1;32m      6\u001b[0m x_z \u001b[38;5;241m=\u001b[39m ufl\u001b[38;5;241m.\u001b[39mas_tensor([x[\u001b[38;5;241m2\u001b[39m]])\n\u001b[0;32m----> 7\u001b[0m theta \u001b[38;5;241m=\u001b[39m \u001b[43minner\u001b[49m\u001b[43m(\u001b[49m\u001b[43mx_x\u001b[49m\u001b[43m,\u001b[49m\u001b[43m \u001b[49m\u001b[43mn\u001b[49m\u001b[43m)\u001b[49m\n\u001b[1;32m      8\u001b[0m phi \u001b[38;5;241m=\u001b[39m inner(x_y, n)\n\u001b[1;32m      9\u001b[0m psi \u001b[38;5;241m=\u001b[39m inner(x_z, n)\n",
      "File \u001b[0;32m/usr/local/lib/python3.10/dist-packages/ufl/operators.py:158\u001b[0m, in \u001b[0;36minner\u001b[0;34m(a, b)\u001b[0m\n\u001b[1;32m    156\u001b[0m \u001b[38;5;28;01mif\u001b[39;00m a\u001b[38;5;241m.\u001b[39mufl_shape \u001b[38;5;241m==\u001b[39m () \u001b[38;5;129;01mand\u001b[39;00m b\u001b[38;5;241m.\u001b[39mufl_shape \u001b[38;5;241m==\u001b[39m ():\n\u001b[1;32m    157\u001b[0m     \u001b[38;5;28;01mreturn\u001b[39;00m a \u001b[38;5;241m*\u001b[39m Conj(b)\n\u001b[0;32m--> 158\u001b[0m \u001b[38;5;28;01mreturn\u001b[39;00m \u001b[43mInner\u001b[49m\u001b[43m(\u001b[49m\u001b[43ma\u001b[49m\u001b[43m,\u001b[49m\u001b[43m \u001b[49m\u001b[43mb\u001b[49m\u001b[43m)\u001b[49m\n",
      "File \u001b[0;32m/usr/local/lib/python3.10/dist-packages/ufl/tensoralgebra.py:146\u001b[0m, in \u001b[0;36mInner.__new__\u001b[0;34m(cls, a, b)\u001b[0m\n\u001b[1;32m    144\u001b[0m ash, bsh \u001b[38;5;241m=\u001b[39m a\u001b[38;5;241m.\u001b[39mufl_shape, b\u001b[38;5;241m.\u001b[39mufl_shape\n\u001b[1;32m    145\u001b[0m \u001b[38;5;28;01mif\u001b[39;00m ash \u001b[38;5;241m!=\u001b[39m bsh:\n\u001b[0;32m--> 146\u001b[0m     \u001b[38;5;28;01mraise\u001b[39;00m \u001b[38;5;167;01mValueError\u001b[39;00m(\u001b[38;5;124mf\u001b[39m\u001b[38;5;124m\"\u001b[39m\u001b[38;5;124mShapes do not match: \u001b[39m\u001b[38;5;132;01m{\u001b[39;00mufl_err_str(a)\u001b[38;5;132;01m}\u001b[39;00m\u001b[38;5;124m and \u001b[39m\u001b[38;5;132;01m{\u001b[39;00mufl_err_str(b)\u001b[38;5;132;01m}\u001b[39;00m\u001b[38;5;124m\"\u001b[39m)\n\u001b[1;32m    148\u001b[0m \u001b[38;5;66;03m# Simplification\u001b[39;00m\n\u001b[1;32m    149\u001b[0m \u001b[38;5;28;01mif\u001b[39;00m \u001b[38;5;28misinstance\u001b[39m(a, Zero) \u001b[38;5;129;01mor\u001b[39;00m \u001b[38;5;28misinstance\u001b[39m(b, Zero):\n",
      "\u001b[0;31mValueError\u001b[0m: Shapes do not match: <ListTensor id=140736276871104> and <FacetNormal id=140736277049728>"
     ]
    }
   ],
   "source": [
    "n = ufl.FacetNormal(final_mesh)\n",
    "x = ufl.SpatialCoordinate(final_mesh)\n",
    "\n",
    "x_x = ufl.as_tensor([x[0]])\n",
    "x_y = ufl.as_tensor([x[1]])\n",
    "x_z = ufl.as_tensor([x[2]])\n",
    "theta = inner(x_x, n)\n",
    "phi = inner(x_y, n)\n",
    "psi = inner(x_z, n)"
   ]
  },
  {
   "cell_type": "code",
   "execution_count": null,
   "id": "ba7ad8d6-1665-4864-9ca4-bce191cd6c85",
   "metadata": {
    "scrolled": true
   },
   "outputs": [],
   "source": [
    "\n",
    "if True:\n",
    "    import pyvista as pv\n",
    "    pv.start_xvfb()\n",
    "    pv.set_jupyter_backend('client')\n",
    "    sphere = pv.Sphere()\n",
    "    \n",
    "    # short example\n",
    "    sphere.plot(jupyter_backend='client')\n"
   ]
  },
  {
   "cell_type": "code",
   "execution_count": null,
   "id": "dc8f4396-6ba9-420a-9bd9-2558d9c0d46f",
   "metadata": {},
   "outputs": [],
   "source": [
    "if False:\n",
    "    u_topology, u_cell_types, u_geometry = plot.create_vtk_mesh(P)\n",
    "    u_grid = pv.UnstructuredGrid(u_topology, u_cell_types, u_geometry)\n",
    "    u_plotter = pv.Plotter(notebook=True)\n",
    "    u_plotter.add_mesh(u_grid, show_edges=True)\n",
    "    u_plotter.view_xy()\n",
    "    if not pv.OFF_SCREEN:\n",
    "        u_plotter.show(jupyter_backend='client')"
   ]
  },
  {
   "cell_type": "code",
   "execution_count": null,
   "id": "6f6d226b-4d44-48fc-b35c-f3abfab0041f",
   "metadata": {},
   "outputs": [],
   "source": [
    "if False:\n",
    "    u_topology, u_cell_types, u_geometry = plot.create_vtk_mesh(Q)\n",
    "    u_grid = pv.UnstructuredGrid(u_topology, u_cell_types, u_geometry)\n",
    "    u_plotter = pv.Plotter(notebook=True)\n",
    "    u_plotter.add_mesh(u_grid, show_edges=True)\n",
    "    u_plotter.view_xy()\n",
    "    if not pv.OFF_SCREEN:\n",
    "        u_plotter.show(jupyter_backend='client')"
   ]
  },
  {
   "cell_type": "code",
   "execution_count": null,
   "id": "c3a26afd-3507-45fd-92cd-84358d48abcf",
   "metadata": {},
   "outputs": [],
   "source": []
  },
  {
   "cell_type": "code",
   "execution_count": null,
   "id": "2d1111ec-f6d2-459f-898f-3046e8c3391e",
   "metadata": {},
   "outputs": [],
   "source": []
  }
 ],
 "metadata": {
  "kernelspec": {
   "display_name": "Python 3 (ipykernel)",
   "language": "python",
   "name": "python3"
  },
  "language_info": {
   "codemirror_mode": {
    "name": "ipython",
    "version": 3
   },
   "file_extension": ".py",
   "mimetype": "text/x-python",
   "name": "python",
   "nbconvert_exporter": "python",
   "pygments_lexer": "ipython3",
   "version": "3.10.6"
  }
 },
 "nbformat": 4,
 "nbformat_minor": 5
}
