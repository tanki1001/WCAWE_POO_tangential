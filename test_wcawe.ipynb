{
 "cells": [
  {
   "cell_type": "code",
   "execution_count": 1,
   "id": "1244b344-d807-470d-bbff-4933a14dd548",
   "metadata": {},
   "outputs": [],
   "source": [
    "from petsc4py import PETSc\n",
    "import numpy as np"
   ]
  },
  {
   "cell_type": "markdown",
   "id": "23d70b33-31bb-4d89-9b2a-e3a5caeef725",
   "metadata": {},
   "source": [
    "The following functions test part of the code, the results are visual only"
   ]
  },
  {
   "cell_type": "code",
   "execution_count": 2,
   "id": "4f2545a3-4eb2-4772-9451-135b9230105f",
   "metadata": {},
   "outputs": [],
   "source": [
    "def build_Q(N):\n",
    "    Q = PETSc.Mat().create()\n",
    "    Q.setSizes((N, N))  \n",
    "    Q.setType(\"seqaij\")  \n",
    "    Q.setFromOptions()\n",
    "    Q.setUp()\n",
    "    return Q\n",
    "\n",
    "def test_build_Q(test):\n",
    "    if test:\n",
    "        print(\"Test building Q\")\n",
    "        print(\"The test is OK if there is a 4x4 matrix full of zero\")\n",
    "        N = 4\n",
    "        \n",
    "        # Tested code :\n",
    "        # Start\n",
    "        Q = build_Q(N)\n",
    "        # End\n",
    "        Q.view()"
   ]
  },
  {
   "cell_type": "code",
   "execution_count": 3,
   "id": "1a6cfa25-e83a-4954-80bb-a7e086b67a51",
   "metadata": {},
   "outputs": [
    {
     "name": "stdout",
     "output_type": "stream",
     "text": [
      "Test building Q\n",
      "The test is OK if there is a 4x4 matrix full of zero\n",
      "Matrix has not been assembled yet\n"
     ]
    }
   ],
   "source": [
    "test_build_Q(True)\n"
   ]
  },
  {
   "cell_type": "code",
   "execution_count": 4,
   "id": "072fade9-2788-43c3-bb63-cf079034ee4f",
   "metadata": {},
   "outputs": [],
   "source": [
    "def create_V_storev1(size_v1, N, v1):\n",
    "    Vn = PETSc.Mat().create()\n",
    "    Vn.setSizes((size_v1, N))  \n",
    "    Vn.setType(\"seqdense\")  \n",
    "    Vn.setFromOptions()\n",
    "    Vn.setUp()    \n",
    "    Vn.setValues([i for i in range(size_v1)], 0, v1, PETSc.InsertMode.INSERT_VALUES) #Vn[0] = v1\n",
    "    return Vn\n",
    "\n",
    "def test_create_V_storev1(test):\n",
    "    if test:\n",
    "        print(\"Test the creation of V and the storing of the first vector\\n\")\n",
    "        \n",
    "        N = 4\n",
    "        v1 = np.array([1, -2, 3, 10, 2.2])\n",
    "        print(f\"The test is OK if there is a {len(v1)}x{N} matrix \\nwith the first column full filled by {v1}\\n\")\n",
    "        v1 = PETSc.Vec().createWithArray(v1)\n",
    "        size_v1 = v1.getSize()\n",
    "\n",
    "        # Tested code :\n",
    "        # Start\n",
    "        Vn = create_V_storev1(size_v1, N, v1)\n",
    "        # End\n",
    "        Vn.assemble()\n",
    "        Vn.view()"
   ]
  },
  {
   "cell_type": "code",
   "execution_count": 5,
   "id": "e7c3d231-a6b7-4dc4-88f0-cdb020ef55f8",
   "metadata": {},
   "outputs": [
    {
     "name": "stdout",
     "output_type": "stream",
     "text": [
      "Test the creation of V and the storing of the first vector\n",
      "\n",
      "The test is OK if there is a 5x4 matrix \n",
      "with the first column full filled by [ 1.  -2.   3.  10.   2.2]\n",
      "\n",
      "Mat Object: 1 MPI process\n",
      "  type: seqdense\n",
      "1.0000000000000000e+00 0.0000000000000000e+00 0.0000000000000000e+00 0.0000000000000000e+00 \n",
      "-2.0000000000000000e+00 0.0000000000000000e+00 0.0000000000000000e+00 0.0000000000000000e+00 \n",
      "3.0000000000000000e+00 0.0000000000000000e+00 0.0000000000000000e+00 0.0000000000000000e+00 \n",
      "1.0000000000000000e+01 0.0000000000000000e+00 0.0000000000000000e+00 0.0000000000000000e+00 \n",
      "2.2000000000000002e+00 0.0000000000000000e+00 0.0000000000000000e+00 0.0000000000000000e+00 \n"
     ]
    }
   ],
   "source": [
    "test_create_V_storev1(True)"
   ]
  },
  {
   "cell_type": "code",
   "execution_count": 7,
   "id": "c7fea84a-4900-4c85-a854-704d5ed1e6ab",
   "metadata": {},
   "outputs": [
    {
     "name": "stdout",
     "output_type": "stream",
     "text": [
      "Mat Object: 1 MPI process\n",
      "  type: seqaij\n",
      "row 0: (0, 1.)  (1, 1.)  (2, 0.)  (3, 0.) \n",
      "row 1: (0, 1.)  (1, 1.)  (2, 1.)  (3, 0.) \n",
      "row 2: (0, 0.)  (1, 1.)  (2, 1.)  (3, 1.) \n",
      "row 3: (0, 0.)  (1, 0.)  (2, 1.)  (3, 1.) \n",
      "Vec Object: 1 MPI process\n",
      "  type: seq\n",
      "1.\n",
      "-2.\n",
      "3.\n",
      "2.2\n",
      "Vec Object: 1 MPI process\n",
      "  type: seq\n",
      "0.2\n",
      "0.8\n",
      "-3.\n",
      "5.2\n"
     ]
    }
   ],
   "source": [
    "# Create a non singular matrix to test solving part of the program\n",
    "z = np.array([[1,1,0,0],[1,1,1,0],[0,1,1,1],[0,0,1,1]])\n",
    "N = len(z)\n",
    "Q = build_Q(N)\n",
    "for i in range(N):\n",
    "    v = z[i]\n",
    "    Q.setValues([i for i in range(len(v))], i, v, PETSc.InsertMode.INSERT_VALUES) \n",
    "#Q.setType(\"seqaij\")\n",
    "Q.assemble()\n",
    "Q.view()\n",
    "rhs = np.array([1, -2, 3, 2.2])\n",
    "rhs = PETSc.Vec().createWithArray(rhs)\n",
    "\n",
    "ksp = PETSc.KSP().create()\n",
    "ksp.setOperators(Q)\n",
    "ksp.setType(\"gmres\")\n",
    "ksp.getPC().setType(\"lu\")\n",
    "ksp.getPC().setFactorSolverType(\"superlu\")\n",
    "\n",
    "sol = rhs.copy()\n",
    "sol.view()\n",
    "ksp.solve(rhs, sol)\n",
    "sol.view()"
   ]
  },
  {
   "cell_type": "code",
   "execution_count": null,
   "id": "132b38a4-bd8d-4daa-9776-d343f9e93a82",
   "metadata": {},
   "outputs": [],
   "source": []
  }
 ],
 "metadata": {
  "kernelspec": {
   "display_name": "Python 3 (ipykernel)",
   "language": "python",
   "name": "python3"
  },
  "language_info": {
   "codemirror_mode": {
    "name": "ipython",
    "version": 3
   },
   "file_extension": ".py",
   "mimetype": "text/x-python",
   "name": "python",
   "nbconvert_exporter": "python",
   "pygments_lexer": "ipython3",
   "version": "3.10.6"
  }
 },
 "nbformat": 4,
 "nbformat_minor": 5
}
