{
 "cells": [
  {
   "cell_type": "code",
   "execution_count": 1,
   "id": "73b8afcf-a6df-4b9c-a5c1-fbaf9ac847ff",
   "metadata": {},
   "outputs": [
    {
     "name": "stdout",
     "output_type": "stream",
     "text": [
      "([1, 0, 0]) (X) ([1, 0, 0])\n"
     ]
    }
   ],
   "source": [
    "import ufl\n",
    "\n",
    "n = ufl.as_vector([1, 0, 0])\n",
    "print(ufl.outer(n,n))"
   ]
  },
  {
   "cell_type": "code",
   "execution_count": null,
   "id": "c0d0ff20-d34b-4e40-8c1a-a9f03e3d8274",
   "metadata": {},
   "outputs": [],
   "source": []
  }
 ],
 "metadata": {
  "kernelspec": {
   "display_name": "Python 3 (ipykernel)",
   "language": "python",
   "name": "python3"
  },
  "language_info": {
   "codemirror_mode": {
    "name": "ipython",
    "version": 3
   },
   "file_extension": ".py",
   "mimetype": "text/x-python",
   "name": "python",
   "nbconvert_exporter": "python",
   "pygments_lexer": "ipython3",
   "version": "3.10.6"
  }
 },
 "nbformat": 4,
 "nbformat_minor": 5
}
